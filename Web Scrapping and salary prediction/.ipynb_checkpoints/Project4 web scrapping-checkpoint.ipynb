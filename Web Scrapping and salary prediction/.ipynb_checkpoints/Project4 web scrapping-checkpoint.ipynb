{
 "cells": [
  {
   "cell_type": "code",
   "execution_count": 96,
   "metadata": {},
   "outputs": [],
   "source": [
    "#set up environment\n",
    "import requests\n",
    "import bs4\n",
    "from bs4 import BeautifulSoup\n",
    "import pandas as pd\n",
    "import time\n",
    "\n",
    "import matplotlib.pyplot as plt\n",
    "import pandas_profiling\n",
    "import seaborn as sns\n",
    "\n",
    "sns.set_style('whitegrid')\n",
    "\n",
    "%config InlineBackend.figure_format = 'retina'\n",
    "%matplotlib inline"
   ]
  },
  {
   "cell_type": "code",
   "execution_count": 97,
   "metadata": {},
   "outputs": [
    {
     "ename": "KeyboardInterrupt",
     "evalue": "",
     "output_type": "error",
     "traceback": [
      "\u001b[0;31m---------------------------------------------------------------------------\u001b[0m",
      "\u001b[0;31mKeyboardInterrupt\u001b[0m                         Traceback (most recent call last)",
      "\u001b[0;32m<ipython-input-97-ec88c7761b79>\u001b[0m in \u001b[0;36m<module>\u001b[0;34m\u001b[0m\n\u001b[1;32m      4\u001b[0m     \u001b[0mtemp_url\u001b[0m \u001b[0;34m=\u001b[0m \u001b[0;34m\"https://au.indeed.com/jobs?q=data+$20,000&l=Victoria&start=%s\"\u001b[0m \u001b[0;34m%\u001b[0m \u001b[0;34m(\u001b[0m\u001b[0;34m(\u001b[0m\u001b[0mpage\u001b[0m\u001b[0;34m-\u001b[0m\u001b[0;36m1\u001b[0m\u001b[0;34m)\u001b[0m\u001b[0;34m*\u001b[0m\u001b[0;36m10\u001b[0m\u001b[0;34m)\u001b[0m\u001b[0;34m\u001b[0m\u001b[0;34m\u001b[0m\u001b[0m\n\u001b[1;32m      5\u001b[0m     \u001b[0;31m#conducting a request of the stated URL above:\u001b[0m\u001b[0;34m\u001b[0m\u001b[0;34m\u001b[0m\u001b[0;34m\u001b[0m\u001b[0m\n\u001b[0;32m----> 6\u001b[0;31m     \u001b[0mcontent\u001b[0m \u001b[0;34m=\u001b[0m \u001b[0mrequests\u001b[0m\u001b[0;34m.\u001b[0m\u001b[0mget\u001b[0m\u001b[0;34m(\u001b[0m\u001b[0mtemp_url\u001b[0m\u001b[0;34m)\u001b[0m\u001b[0;34m\u001b[0m\u001b[0;34m\u001b[0m\u001b[0m\n\u001b[0m\u001b[1;32m      7\u001b[0m     \u001b[0;31m#specifying a desired format of “page” using the html parser - this allows python to\u001b[0m\u001b[0;34m\u001b[0m\u001b[0;34m\u001b[0m\u001b[0;34m\u001b[0m\u001b[0m\n\u001b[1;32m      8\u001b[0m     \u001b[0;31m#read the various components of the page, rather than treating it as one long string.\u001b[0m\u001b[0;34m\u001b[0m\u001b[0;34m\u001b[0m\u001b[0;34m\u001b[0m\u001b[0m\n",
      "\u001b[0;32m/anaconda3/lib/python3.6/site-packages/requests/api.py\u001b[0m in \u001b[0;36mget\u001b[0;34m(url, params, **kwargs)\u001b[0m\n\u001b[1;32m     73\u001b[0m \u001b[0;34m\u001b[0m\u001b[0m\n\u001b[1;32m     74\u001b[0m     \u001b[0mkwargs\u001b[0m\u001b[0;34m.\u001b[0m\u001b[0msetdefault\u001b[0m\u001b[0;34m(\u001b[0m\u001b[0;34m'allow_redirects'\u001b[0m\u001b[0;34m,\u001b[0m \u001b[0;32mTrue\u001b[0m\u001b[0;34m)\u001b[0m\u001b[0;34m\u001b[0m\u001b[0;34m\u001b[0m\u001b[0m\n\u001b[0;32m---> 75\u001b[0;31m     \u001b[0;32mreturn\u001b[0m \u001b[0mrequest\u001b[0m\u001b[0;34m(\u001b[0m\u001b[0;34m'get'\u001b[0m\u001b[0;34m,\u001b[0m \u001b[0murl\u001b[0m\u001b[0;34m,\u001b[0m \u001b[0mparams\u001b[0m\u001b[0;34m=\u001b[0m\u001b[0mparams\u001b[0m\u001b[0;34m,\u001b[0m \u001b[0;34m**\u001b[0m\u001b[0mkwargs\u001b[0m\u001b[0;34m)\u001b[0m\u001b[0;34m\u001b[0m\u001b[0;34m\u001b[0m\u001b[0m\n\u001b[0m\u001b[1;32m     76\u001b[0m \u001b[0;34m\u001b[0m\u001b[0m\n\u001b[1;32m     77\u001b[0m \u001b[0;34m\u001b[0m\u001b[0m\n",
      "\u001b[0;32m/anaconda3/lib/python3.6/site-packages/requests/api.py\u001b[0m in \u001b[0;36mrequest\u001b[0;34m(method, url, **kwargs)\u001b[0m\n\u001b[1;32m     58\u001b[0m     \u001b[0;31m# cases, and look like a memory leak in others.\u001b[0m\u001b[0;34m\u001b[0m\u001b[0;34m\u001b[0m\u001b[0;34m\u001b[0m\u001b[0m\n\u001b[1;32m     59\u001b[0m     \u001b[0;32mwith\u001b[0m \u001b[0msessions\u001b[0m\u001b[0;34m.\u001b[0m\u001b[0mSession\u001b[0m\u001b[0;34m(\u001b[0m\u001b[0;34m)\u001b[0m \u001b[0;32mas\u001b[0m \u001b[0msession\u001b[0m\u001b[0;34m:\u001b[0m\u001b[0;34m\u001b[0m\u001b[0;34m\u001b[0m\u001b[0m\n\u001b[0;32m---> 60\u001b[0;31m         \u001b[0;32mreturn\u001b[0m \u001b[0msession\u001b[0m\u001b[0;34m.\u001b[0m\u001b[0mrequest\u001b[0m\u001b[0;34m(\u001b[0m\u001b[0mmethod\u001b[0m\u001b[0;34m=\u001b[0m\u001b[0mmethod\u001b[0m\u001b[0;34m,\u001b[0m \u001b[0murl\u001b[0m\u001b[0;34m=\u001b[0m\u001b[0murl\u001b[0m\u001b[0;34m,\u001b[0m \u001b[0;34m**\u001b[0m\u001b[0mkwargs\u001b[0m\u001b[0;34m)\u001b[0m\u001b[0;34m\u001b[0m\u001b[0;34m\u001b[0m\u001b[0m\n\u001b[0m\u001b[1;32m     61\u001b[0m \u001b[0;34m\u001b[0m\u001b[0m\n\u001b[1;32m     62\u001b[0m \u001b[0;34m\u001b[0m\u001b[0m\n",
      "\u001b[0;32m/anaconda3/lib/python3.6/site-packages/requests/sessions.py\u001b[0m in \u001b[0;36mrequest\u001b[0;34m(self, method, url, params, data, headers, cookies, files, auth, timeout, allow_redirects, proxies, hooks, stream, verify, cert, json)\u001b[0m\n\u001b[1;32m    531\u001b[0m         }\n\u001b[1;32m    532\u001b[0m         \u001b[0msend_kwargs\u001b[0m\u001b[0;34m.\u001b[0m\u001b[0mupdate\u001b[0m\u001b[0;34m(\u001b[0m\u001b[0msettings\u001b[0m\u001b[0;34m)\u001b[0m\u001b[0;34m\u001b[0m\u001b[0;34m\u001b[0m\u001b[0m\n\u001b[0;32m--> 533\u001b[0;31m         \u001b[0mresp\u001b[0m \u001b[0;34m=\u001b[0m \u001b[0mself\u001b[0m\u001b[0;34m.\u001b[0m\u001b[0msend\u001b[0m\u001b[0;34m(\u001b[0m\u001b[0mprep\u001b[0m\u001b[0;34m,\u001b[0m \u001b[0;34m**\u001b[0m\u001b[0msend_kwargs\u001b[0m\u001b[0;34m)\u001b[0m\u001b[0;34m\u001b[0m\u001b[0;34m\u001b[0m\u001b[0m\n\u001b[0m\u001b[1;32m    534\u001b[0m \u001b[0;34m\u001b[0m\u001b[0m\n\u001b[1;32m    535\u001b[0m         \u001b[0;32mreturn\u001b[0m \u001b[0mresp\u001b[0m\u001b[0;34m\u001b[0m\u001b[0;34m\u001b[0m\u001b[0m\n",
      "\u001b[0;32m/anaconda3/lib/python3.6/site-packages/requests/sessions.py\u001b[0m in \u001b[0;36msend\u001b[0;34m(self, request, **kwargs)\u001b[0m\n\u001b[1;32m    644\u001b[0m \u001b[0;34m\u001b[0m\u001b[0m\n\u001b[1;32m    645\u001b[0m         \u001b[0;31m# Send the request\u001b[0m\u001b[0;34m\u001b[0m\u001b[0;34m\u001b[0m\u001b[0;34m\u001b[0m\u001b[0m\n\u001b[0;32m--> 646\u001b[0;31m         \u001b[0mr\u001b[0m \u001b[0;34m=\u001b[0m \u001b[0madapter\u001b[0m\u001b[0;34m.\u001b[0m\u001b[0msend\u001b[0m\u001b[0;34m(\u001b[0m\u001b[0mrequest\u001b[0m\u001b[0;34m,\u001b[0m \u001b[0;34m**\u001b[0m\u001b[0mkwargs\u001b[0m\u001b[0;34m)\u001b[0m\u001b[0;34m\u001b[0m\u001b[0;34m\u001b[0m\u001b[0m\n\u001b[0m\u001b[1;32m    647\u001b[0m \u001b[0;34m\u001b[0m\u001b[0m\n\u001b[1;32m    648\u001b[0m         \u001b[0;31m# Total elapsed time of the request (approximately)\u001b[0m\u001b[0;34m\u001b[0m\u001b[0;34m\u001b[0m\u001b[0;34m\u001b[0m\u001b[0m\n",
      "\u001b[0;32m/anaconda3/lib/python3.6/site-packages/requests/adapters.py\u001b[0m in \u001b[0;36msend\u001b[0;34m(self, request, stream, timeout, verify, cert, proxies)\u001b[0m\n\u001b[1;32m    447\u001b[0m                     \u001b[0mdecode_content\u001b[0m\u001b[0;34m=\u001b[0m\u001b[0;32mFalse\u001b[0m\u001b[0;34m,\u001b[0m\u001b[0;34m\u001b[0m\u001b[0;34m\u001b[0m\u001b[0m\n\u001b[1;32m    448\u001b[0m                     \u001b[0mretries\u001b[0m\u001b[0;34m=\u001b[0m\u001b[0mself\u001b[0m\u001b[0;34m.\u001b[0m\u001b[0mmax_retries\u001b[0m\u001b[0;34m,\u001b[0m\u001b[0;34m\u001b[0m\u001b[0;34m\u001b[0m\u001b[0m\n\u001b[0;32m--> 449\u001b[0;31m                     \u001b[0mtimeout\u001b[0m\u001b[0;34m=\u001b[0m\u001b[0mtimeout\u001b[0m\u001b[0;34m\u001b[0m\u001b[0;34m\u001b[0m\u001b[0m\n\u001b[0m\u001b[1;32m    450\u001b[0m                 )\n\u001b[1;32m    451\u001b[0m \u001b[0;34m\u001b[0m\u001b[0m\n",
      "\u001b[0;32m/anaconda3/lib/python3.6/site-packages/urllib3/connectionpool.py\u001b[0m in \u001b[0;36murlopen\u001b[0;34m(self, method, url, body, headers, retries, redirect, assert_same_host, timeout, pool_timeout, release_conn, chunked, body_pos, **response_kw)\u001b[0m\n\u001b[1;32m    598\u001b[0m                                                   \u001b[0mtimeout\u001b[0m\u001b[0;34m=\u001b[0m\u001b[0mtimeout_obj\u001b[0m\u001b[0;34m,\u001b[0m\u001b[0;34m\u001b[0m\u001b[0;34m\u001b[0m\u001b[0m\n\u001b[1;32m    599\u001b[0m                                                   \u001b[0mbody\u001b[0m\u001b[0;34m=\u001b[0m\u001b[0mbody\u001b[0m\u001b[0;34m,\u001b[0m \u001b[0mheaders\u001b[0m\u001b[0;34m=\u001b[0m\u001b[0mheaders\u001b[0m\u001b[0;34m,\u001b[0m\u001b[0;34m\u001b[0m\u001b[0;34m\u001b[0m\u001b[0m\n\u001b[0;32m--> 600\u001b[0;31m                                                   chunked=chunked)\n\u001b[0m\u001b[1;32m    601\u001b[0m \u001b[0;34m\u001b[0m\u001b[0m\n\u001b[1;32m    602\u001b[0m             \u001b[0;31m# If we're going to release the connection in ``finally:``, then\u001b[0m\u001b[0;34m\u001b[0m\u001b[0;34m\u001b[0m\u001b[0;34m\u001b[0m\u001b[0m\n",
      "\u001b[0;32m/anaconda3/lib/python3.6/site-packages/urllib3/connectionpool.py\u001b[0m in \u001b[0;36m_make_request\u001b[0;34m(self, conn, method, url, timeout, chunked, **httplib_request_kw)\u001b[0m\n\u001b[1;32m    341\u001b[0m         \u001b[0;31m# Trigger any extra validation we need to do.\u001b[0m\u001b[0;34m\u001b[0m\u001b[0;34m\u001b[0m\u001b[0;34m\u001b[0m\u001b[0m\n\u001b[1;32m    342\u001b[0m         \u001b[0;32mtry\u001b[0m\u001b[0;34m:\u001b[0m\u001b[0;34m\u001b[0m\u001b[0;34m\u001b[0m\u001b[0m\n\u001b[0;32m--> 343\u001b[0;31m             \u001b[0mself\u001b[0m\u001b[0;34m.\u001b[0m\u001b[0m_validate_conn\u001b[0m\u001b[0;34m(\u001b[0m\u001b[0mconn\u001b[0m\u001b[0;34m)\u001b[0m\u001b[0;34m\u001b[0m\u001b[0;34m\u001b[0m\u001b[0m\n\u001b[0m\u001b[1;32m    344\u001b[0m         \u001b[0;32mexcept\u001b[0m \u001b[0;34m(\u001b[0m\u001b[0mSocketTimeout\u001b[0m\u001b[0;34m,\u001b[0m \u001b[0mBaseSSLError\u001b[0m\u001b[0;34m)\u001b[0m \u001b[0;32mas\u001b[0m \u001b[0me\u001b[0m\u001b[0;34m:\u001b[0m\u001b[0;34m\u001b[0m\u001b[0;34m\u001b[0m\u001b[0m\n\u001b[1;32m    345\u001b[0m             \u001b[0;31m# Py2 raises this as a BaseSSLError, Py3 raises it as socket timeout.\u001b[0m\u001b[0;34m\u001b[0m\u001b[0;34m\u001b[0m\u001b[0;34m\u001b[0m\u001b[0m\n",
      "\u001b[0;32m/anaconda3/lib/python3.6/site-packages/urllib3/connectionpool.py\u001b[0m in \u001b[0;36m_validate_conn\u001b[0;34m(self, conn)\u001b[0m\n\u001b[1;32m    837\u001b[0m         \u001b[0;31m# Force connect early to allow us to validate the connection.\u001b[0m\u001b[0;34m\u001b[0m\u001b[0;34m\u001b[0m\u001b[0;34m\u001b[0m\u001b[0m\n\u001b[1;32m    838\u001b[0m         \u001b[0;32mif\u001b[0m \u001b[0;32mnot\u001b[0m \u001b[0mgetattr\u001b[0m\u001b[0;34m(\u001b[0m\u001b[0mconn\u001b[0m\u001b[0;34m,\u001b[0m \u001b[0;34m'sock'\u001b[0m\u001b[0;34m,\u001b[0m \u001b[0;32mNone\u001b[0m\u001b[0;34m)\u001b[0m\u001b[0;34m:\u001b[0m  \u001b[0;31m# AppEngine might not have  `.sock`\u001b[0m\u001b[0;34m\u001b[0m\u001b[0;34m\u001b[0m\u001b[0m\n\u001b[0;32m--> 839\u001b[0;31m             \u001b[0mconn\u001b[0m\u001b[0;34m.\u001b[0m\u001b[0mconnect\u001b[0m\u001b[0;34m(\u001b[0m\u001b[0;34m)\u001b[0m\u001b[0;34m\u001b[0m\u001b[0;34m\u001b[0m\u001b[0m\n\u001b[0m\u001b[1;32m    840\u001b[0m \u001b[0;34m\u001b[0m\u001b[0m\n\u001b[1;32m    841\u001b[0m         \u001b[0;32mif\u001b[0m \u001b[0;32mnot\u001b[0m \u001b[0mconn\u001b[0m\u001b[0;34m.\u001b[0m\u001b[0mis_verified\u001b[0m\u001b[0;34m:\u001b[0m\u001b[0;34m\u001b[0m\u001b[0;34m\u001b[0m\u001b[0m\n",
      "\u001b[0;32m/anaconda3/lib/python3.6/site-packages/urllib3/connection.py\u001b[0m in \u001b[0;36mconnect\u001b[0;34m(self)\u001b[0m\n\u001b[1;32m    342\u001b[0m             \u001b[0mca_cert_dir\u001b[0m\u001b[0;34m=\u001b[0m\u001b[0mself\u001b[0m\u001b[0;34m.\u001b[0m\u001b[0mca_cert_dir\u001b[0m\u001b[0;34m,\u001b[0m\u001b[0;34m\u001b[0m\u001b[0;34m\u001b[0m\u001b[0m\n\u001b[1;32m    343\u001b[0m             \u001b[0mserver_hostname\u001b[0m\u001b[0;34m=\u001b[0m\u001b[0mserver_hostname\u001b[0m\u001b[0;34m,\u001b[0m\u001b[0;34m\u001b[0m\u001b[0;34m\u001b[0m\u001b[0m\n\u001b[0;32m--> 344\u001b[0;31m             ssl_context=context)\n\u001b[0m\u001b[1;32m    345\u001b[0m \u001b[0;34m\u001b[0m\u001b[0m\n\u001b[1;32m    346\u001b[0m         \u001b[0;32mif\u001b[0m \u001b[0mself\u001b[0m\u001b[0;34m.\u001b[0m\u001b[0massert_fingerprint\u001b[0m\u001b[0;34m:\u001b[0m\u001b[0;34m\u001b[0m\u001b[0;34m\u001b[0m\u001b[0m\n",
      "\u001b[0;32m/anaconda3/lib/python3.6/site-packages/urllib3/util/ssl_.py\u001b[0m in \u001b[0;36mssl_wrap_socket\u001b[0;34m(sock, keyfile, certfile, cert_reqs, ca_certs, server_hostname, ssl_version, ciphers, ssl_context, ca_cert_dir)\u001b[0m\n\u001b[1;32m    345\u001b[0m             or IS_SECURETRANSPORT):\n\u001b[1;32m    346\u001b[0m         \u001b[0;32mif\u001b[0m \u001b[0mHAS_SNI\u001b[0m \u001b[0;32mand\u001b[0m \u001b[0mserver_hostname\u001b[0m \u001b[0;32mis\u001b[0m \u001b[0;32mnot\u001b[0m \u001b[0;32mNone\u001b[0m\u001b[0;34m:\u001b[0m\u001b[0;34m\u001b[0m\u001b[0;34m\u001b[0m\u001b[0m\n\u001b[0;32m--> 347\u001b[0;31m             \u001b[0;32mreturn\u001b[0m \u001b[0mcontext\u001b[0m\u001b[0;34m.\u001b[0m\u001b[0mwrap_socket\u001b[0m\u001b[0;34m(\u001b[0m\u001b[0msock\u001b[0m\u001b[0;34m,\u001b[0m \u001b[0mserver_hostname\u001b[0m\u001b[0;34m=\u001b[0m\u001b[0mserver_hostname\u001b[0m\u001b[0;34m)\u001b[0m\u001b[0;34m\u001b[0m\u001b[0;34m\u001b[0m\u001b[0m\n\u001b[0m\u001b[1;32m    348\u001b[0m \u001b[0;34m\u001b[0m\u001b[0m\n\u001b[1;32m    349\u001b[0m         warnings.warn(\n",
      "\u001b[0;32m/anaconda3/lib/python3.6/site-packages/urllib3/contrib/pyopenssl.py\u001b[0m in \u001b[0;36mwrap_socket\u001b[0;34m(self, sock, server_side, do_handshake_on_connect, suppress_ragged_eofs, server_hostname)\u001b[0m\n\u001b[1;32m    454\u001b[0m         \u001b[0;32mwhile\u001b[0m \u001b[0;32mTrue\u001b[0m\u001b[0;34m:\u001b[0m\u001b[0;34m\u001b[0m\u001b[0;34m\u001b[0m\u001b[0m\n\u001b[1;32m    455\u001b[0m             \u001b[0;32mtry\u001b[0m\u001b[0;34m:\u001b[0m\u001b[0;34m\u001b[0m\u001b[0;34m\u001b[0m\u001b[0m\n\u001b[0;32m--> 456\u001b[0;31m                 \u001b[0mcnx\u001b[0m\u001b[0;34m.\u001b[0m\u001b[0mdo_handshake\u001b[0m\u001b[0;34m(\u001b[0m\u001b[0;34m)\u001b[0m\u001b[0;34m\u001b[0m\u001b[0;34m\u001b[0m\u001b[0m\n\u001b[0m\u001b[1;32m    457\u001b[0m             \u001b[0;32mexcept\u001b[0m \u001b[0mOpenSSL\u001b[0m\u001b[0;34m.\u001b[0m\u001b[0mSSL\u001b[0m\u001b[0;34m.\u001b[0m\u001b[0mWantReadError\u001b[0m\u001b[0;34m:\u001b[0m\u001b[0;34m\u001b[0m\u001b[0;34m\u001b[0m\u001b[0m\n\u001b[1;32m    458\u001b[0m                 \u001b[0;32mif\u001b[0m \u001b[0;32mnot\u001b[0m \u001b[0mutil\u001b[0m\u001b[0;34m.\u001b[0m\u001b[0mwait_for_read\u001b[0m\u001b[0;34m(\u001b[0m\u001b[0msock\u001b[0m\u001b[0;34m,\u001b[0m \u001b[0msock\u001b[0m\u001b[0;34m.\u001b[0m\u001b[0mgettimeout\u001b[0m\u001b[0;34m(\u001b[0m\u001b[0;34m)\u001b[0m\u001b[0;34m)\u001b[0m\u001b[0;34m:\u001b[0m\u001b[0;34m\u001b[0m\u001b[0;34m\u001b[0m\u001b[0m\n",
      "\u001b[0;32m/anaconda3/lib/python3.6/site-packages/OpenSSL/SSL.py\u001b[0m in \u001b[0;36mdo_handshake\u001b[0;34m(self)\u001b[0m\n\u001b[1;32m   1912\u001b[0m         \u001b[0;34m:\u001b[0m\u001b[0;32mreturn\u001b[0m\u001b[0;34m:\u001b[0m \u001b[0;32mNone\u001b[0m\u001b[0;34m.\u001b[0m\u001b[0;34m\u001b[0m\u001b[0;34m\u001b[0m\u001b[0m\n\u001b[1;32m   1913\u001b[0m         \"\"\"\n\u001b[0;32m-> 1914\u001b[0;31m         \u001b[0mresult\u001b[0m \u001b[0;34m=\u001b[0m \u001b[0m_lib\u001b[0m\u001b[0;34m.\u001b[0m\u001b[0mSSL_do_handshake\u001b[0m\u001b[0;34m(\u001b[0m\u001b[0mself\u001b[0m\u001b[0;34m.\u001b[0m\u001b[0m_ssl\u001b[0m\u001b[0;34m)\u001b[0m\u001b[0;34m\u001b[0m\u001b[0;34m\u001b[0m\u001b[0m\n\u001b[0m\u001b[1;32m   1915\u001b[0m         \u001b[0mself\u001b[0m\u001b[0;34m.\u001b[0m\u001b[0m_raise_ssl_error\u001b[0m\u001b[0;34m(\u001b[0m\u001b[0mself\u001b[0m\u001b[0;34m.\u001b[0m\u001b[0m_ssl\u001b[0m\u001b[0;34m,\u001b[0m \u001b[0mresult\u001b[0m\u001b[0;34m)\u001b[0m\u001b[0;34m\u001b[0m\u001b[0;34m\u001b[0m\u001b[0m\n\u001b[1;32m   1916\u001b[0m \u001b[0;34m\u001b[0m\u001b[0m\n",
      "\u001b[0;31mKeyboardInterrupt\u001b[0m: "
     ]
    }
   ],
   "source": [
    "#set up Victoria List\n",
    "url_list = []\n",
    "for page in range (1, 350):\n",
    "    temp_url = \"https://au.indeed.com/jobs?q=data+$20,000&l=Victoria&start=%s\" % ((page-1)*10)\n",
    "    #conducting a request of the stated URL above:\n",
    "    content = requests.get(temp_url)\n",
    "    #specifying a desired format of “page” using the html parser - this allows python to \n",
    "    #read the various components of the page, rather than treating it as one long string.\n",
    "    page_soup = BeautifulSoup(markup=content.text,features='lxml')\n",
    "    #printing soup in a more structured tree \n",
    "    #format that makes for easier reading\n",
    "    for div in page_soup.find_all(name='div', \n",
    "                                  attrs={'class':\n",
    "                                         'jobsearch-SerpJobCard'}):\n",
    "        url_list.append(div['data-jk'])\n",
    "                        \n",
    "len(url_list)"
   ]
  },
  {
   "cell_type": "code",
   "execution_count": null,
   "metadata": {},
   "outputs": [],
   "source": [
    "#Set up Sydney List\n",
    "url_list2 = []\n",
    "for page in range (1, 300):\n",
    "    temp_url = \"https://au.indeed.com/jobs?q=data+$20,000&l=Sydney&start=%s\" % ((page-1)*10)\n",
    "    #conducting a request of the stated URL above:\n",
    "    content = requests.get(temp_url)\n",
    "    #specifying a desired format of “page” using the html parser - this allows python to \n",
    "    #read the various components of the page, rather than treating it as one long string.\n",
    "    page_soup = BeautifulSoup(markup=content.text,features='lxml')\n",
    "    #printing soup in a more structured tree \n",
    "    #format that makes for easier reading\n",
    "    for div in page_soup.find_all(name='div', \n",
    "                                  attrs={'class':\n",
    "                                         'jobsearch-SerpJobCard'}):\n",
    "        url_list2.append(div['data-jk'])\n",
    "len(url_list2)"
   ]
  },
  {
   "cell_type": "code",
   "execution_count": null,
   "metadata": {},
   "outputs": [],
   "source": [
    "#Set up Brisbane list\n",
    "url_list3 = []\n",
    "for page in range (1, 300):\n",
    "    temp_url = \"https://au.indeed.com/jobs?q=data+$20,000&l=Brisbane&start=%s\" % ((page-1)*10)\n",
    "    time.sleep(0.2)\n",
    "    #conducting a request of the stated URL above:\n",
    "    content = requests.get(temp_url)\n",
    "    #specifying a desired format of “page” using the html parser - this allows python to \n",
    "    #read the various components of the page, rather than treating it as one long string.\n",
    "    page_soup = BeautifulSoup(markup=content.text,features='lxml')\n",
    "    #printing soup in a more structured tree \n",
    "    #format that makes for easier reading\n",
    "    for div in page_soup.find_all(name='div', \n",
    "                                  attrs={'class':\n",
    "                                         'jobsearch-SerpJobCard'}):\n",
    "        url_list3.append(div['data-jk'])\n",
    "len(url_list3)"
   ]
  },
  {
   "cell_type": "code",
   "execution_count": null,
   "metadata": {},
   "outputs": [],
   "source": [
    "url_list4 = []\n",
    "for page in range (1, 300):\n",
    "    temp_url = \"https://au.indeed.com/jobs?q=data+$20,000&l=Canberra&start=%s\" % ((page-1)*10)\n",
    "    time.sleep(0.2)\n",
    "    #conducting a request of the stated URL above:\n",
    "    content = requests.get(temp_url)\n",
    "    #specifying a desired format of “page” using the html parser - this allows python to \n",
    "    #read the various components of the page, rather than treating it as one long string.\n",
    "    page_soup = BeautifulSoup(markup=content.text,features='lxml')\n",
    "    #printing soup in a more structured tree \n",
    "    #format that makes for easier reading\n",
    "    for div in page_soup.find_all(name='div', \n",
    "                                  attrs={'class':\n",
    "                                         'jobsearch-SerpJobCard'}):\n",
    "        url_list4.append(div['data-jk'])\n",
    "len(url_list4)"
   ]
  },
  {
   "cell_type": "code",
   "execution_count": null,
   "metadata": {},
   "outputs": [],
   "source": [
    "#Check List\n",
    "url_list4[:10]"
   ]
  },
  {
   "cell_type": "code",
   "execution_count": null,
   "metadata": {},
   "outputs": [],
   "source": [
    "# https://au.indeed.com/viewjob?jk=68235e154957be93"
   ]
  },
  {
   "cell_type": "code",
   "execution_count": null,
   "metadata": {
    "scrolled": false
   },
   "outputs": [],
   "source": [
    "# def get_url(soup):\n",
    "#     urls = []\n",
    "#     for div in soup.find_all(name='div', attrs={'class':'jobsearch-SerpJobCard'}):\n",
    "#         print(div['data-jk'])\n",
    "#         #         for link in div.find_all(name='a'):\n",
    "# #         print(div)\n",
    "\n",
    "# get_url(soup)"
   ]
  },
  {
   "cell_type": "code",
   "execution_count": null,
   "metadata": {},
   "outputs": [],
   "source": [
    "#Set up data frame 1 for melbourne and sydney\n",
    "city_set = ['Melbourne','Sydney','Brisbane','Peth']\n",
    "columns = ['job_title','location','work_type','company_name','company_rating', 'salary','desc']\n",
    "sample_df = pd.DataFrame(columns = columns)\n",
    "sample_df['job_title'] = ['e' for number in range(8000)]"
   ]
  },
  {
   "cell_type": "code",
   "execution_count": null,
   "metadata": {},
   "outputs": [],
   "source": [
    "#Set up data frame 2 for Brisbane\n",
    "sample_df2 = pd.DataFrame(columns = columns)\n",
    "sample_df2['job_title'] = ['e' for number in range(8000)]"
   ]
  },
  {
   "cell_type": "code",
   "execution_count": null,
   "metadata": {},
   "outputs": [],
   "source": [
    "#check dataframe shape\n",
    "sample_df.shape"
   ]
  },
  {
   "cell_type": "code",
   "execution_count": null,
   "metadata": {},
   "outputs": [],
   "source": [
    "# #scraping code:\n",
    "# # job_title = []\n",
    "# # location = []\n",
    "# # work_type = []\n",
    "# # company_name = []\n",
    "# # company_rating = []\n",
    "# # salary = []\n",
    "# # desc = []\n",
    "# for i,k in enumerate(url_list):\n",
    "#     temp_url2 = 'https://au.indeed.com/viewjob?jk=' + k\n",
    "#     time.sleep(1)  #ensuring at least 1 second between page grabs\n",
    "#     content2 = requests.get(temp_url2)\n",
    "#     soup2 = BeautifulSoup(content2.text, 'lxml', from_encoding='utf-8')\n",
    "#     for item in soup2.find_all(name='h3', attrs={'class':'icl-u-xs-mb--xs icl-u-xs-mt--none jobsearch-JobInfoHeader-title'}):\n",
    "#         #print(item.text)\n",
    "#          job_title.append(item.text)\n",
    "\n",
    "# job_title"
   ]
  },
  {
   "cell_type": "code",
   "execution_count": null,
   "metadata": {},
   "outputs": [],
   "source": [
    "# sample_df['job_title'] = job_title"
   ]
  },
  {
   "cell_type": "code",
   "execution_count": null,
   "metadata": {},
   "outputs": [],
   "source": [
    "#Check dataframe\n",
    "sample_df.head()"
   ]
  },
  {
   "cell_type": "code",
   "execution_count": null,
   "metadata": {},
   "outputs": [],
   "source": [
    "#Scrapping for Melbourne\n",
    "for i,k in enumerate(url_list):\n",
    "    temp_url2 = 'https://au.indeed.com/viewjob?jk=' + k\n",
    "    time.sleep(0.2)  #ensuring at least 1 second between page grabs\n",
    "    content2 = requests.get(temp_url2)\n",
    "    soup2 = BeautifulSoup(content2.text, 'lxml', from_encoding='utf-8')\n",
    "    jt = soup2.find(name='h3', attrs={'class':'icl-u-xs-mb--xs icl-u-xs-mt--none jobsearch-JobInfoHeader-title'})\n",
    "    if jt is not None:\n",
    "        sample_df.job_title[i] = jt.text\n",
    "        cn = soup2.find(name='div',attrs={'class':'icl-u-lg-mr--sm icl-u-xs-mr--xs'})\n",
    "        if cn is not None:\n",
    "            sample_df.company_name[i] = cn.text\n",
    "        else:\n",
    "            sample_df.company_name[i] = url_list[i]\n",
    "        rt = soup2.find(name='meta',attrs={'itemprop':'ratingValue'})\n",
    "        if rt is not None:\n",
    "            sample_df.company_rating[i] = rt[\"content\"]\n",
    "        lc = soup2.find(name='span',attrs={'class':'jobsearch-JobMetadataHeader-iconLabel'})\n",
    "        if lc is not None:\n",
    "            if \"$\" in lc:\n",
    "                sample_df.salary = lc.text\n",
    "            else:\n",
    "                sample_df.location[i] = lc.text\n",
    "            metalist = soup2.find_all(name='span',attrs={'class':'jobsearch-JobMetadataHeader-iconLabel'})\n",
    "            for x in range(1,len(metalist)):\n",
    "                if \"$\" in metalist[x].text:\n",
    "                    sample_df.salary[i] = metalist[x].text\n",
    "                else:\n",
    "                    sample_df.work_type[i] = metalist[x].text\n",
    "        desc = soup2.find(name='div',attrs={'class':'jobsearch-jobDescriptionText'})\n",
    "        if desc is not None:\n",
    "            sample_df.desc[i] = desc.text\n",
    "\n",
    "#     functions = soup2.find_all(name='span', attrs={'class':'jobsearch-JobMetadataHeader-iconLabel'})\n",
    "#     print(functions)\n",
    "#     print(len(functions))\n",
    "#     for t in range(len(functions)):\n",
    "#         if functions[t].text.find('$'):\n",
    "#             sample_df.salary[i] = functions[t].text\n",
    "#         elif \n",
    "            \n",
    "    \n",
    "#     if len(functions)==0:\n",
    "#         work_type.append('NA')\n",
    "#     else:\n",
    "#         for item in functions:\n",
    "#             print(item)\n",
    "    \n",
    "        \n",
    "#sample_df['job_title'] = job_title"
   ]
  },
  {
   "cell_type": "code",
   "execution_count": null,
   "metadata": {},
   "outputs": [],
   "source": [
    "#Review the breaks in the table and update the query\n",
    "rowcount = len(sample_df[~(sample_df['job_title']=='e')].index)\n",
    "rowcount"
   ]
  },
  {
   "cell_type": "markdown",
   "metadata": {},
   "source": [
    "#### sample_df.location.value_counts()"
   ]
  },
  {
   "cell_type": "code",
   "execution_count": null,
   "metadata": {},
   "outputs": [],
   "source": [
    "#Scrapping for Sydney\n",
    "for j,k in enumerate(url_list2[260:]):\n",
    "    temp_url3 = 'https://au.indeed.com/viewjob?jk=' + k\n",
    "    time.sleep(0.2)  #ensuring at least 1 second between page grabs\n",
    "    content2 = requests.get(temp_url3)\n",
    "    soup2 = BeautifulSoup(content2.text, 'lxml', from_encoding='utf-8')\n",
    "    i = j + rowcount\n",
    "    jt = soup2.find(name='h3', attrs={'class':'icl-u-xs-mb--xs icl-u-xs-mt--none jobsearch-JobInfoHeader-title'})\n",
    "    if jt is not None:\n",
    "        sample_df.job_title[i] = jt.text\n",
    "        cn = soup2.find(name='div',attrs={'class':'icl-u-lg-mr--sm icl-u-xs-mr--xs'})\n",
    "        if cn is not None:\n",
    "            sample_df.company_name[i] = cn.text\n",
    "        else:\n",
    "            sample_df.company_name[i] = url_list2[j]\n",
    "        rt = soup2.find(name='meta',attrs={'itemprop':'ratingValue'})\n",
    "        if rt is not None:\n",
    "            sample_df.company_rating[i] = rt[\"content\"]\n",
    "        lc = soup2.find(name='span',attrs={'class':'jobsearch-JobMetadataHeader-iconLabel'})\n",
    "        if lc is not None:\n",
    "            if \"$\" in lc:\n",
    "                sample_df.salary = lc.text\n",
    "            else:\n",
    "                sample_df.location[i] = lc.text\n",
    "            metalist = soup2.find_all(name='span',attrs={'class':'jobsearch-JobMetadataHeader-iconLabel'})\n",
    "            for x in range(1,len(metalist)):\n",
    "                if \"$\" in metalist[x].text:\n",
    "                    sample_df.salary[i] = metalist[x].text\n",
    "                else:\n",
    "                    sample_df.work_type[i] = metalist[x].text\n",
    "        desc = soup2.find(name='div',attrs={'class':'jobsearch-jobDescriptionText'})\n",
    "        if desc is not None:\n",
    "            sample_df.desc[i] = desc.text\n"
   ]
  },
  {
   "cell_type": "code",
   "execution_count": null,
   "metadata": {},
   "outputs": [],
   "source": [
    "#Review the breaks in the table and update the query\n",
    "# sample_df[~(sample_df['job_title']=='e')]\n",
    "sample_df = sample_df.dropna(subset=['salary'])\n",
    "sample_df"
   ]
  },
  {
   "cell_type": "code",
   "execution_count": null,
   "metadata": {},
   "outputs": [],
   "source": [
    "#     #specifying row num for index of job posting in dataframe\n",
    "#     num = (len(sample_df) + 1) \n",
    "#     #creating an empty list to hold the data for each posting\n",
    "#     job_post = [] \n",
    "#     #append city name\n",
    "#     job_post.append(city) \n",
    "#     #grabbing job title\n",
    "#     for a in div.find_all(name=”a”, attrs={“data-tn-element”:”jobTitle”}):\n",
    "#       job_post.append(a[“title”]) \n",
    "#     #grabbing company name\n",
    "#     company = div.find_all(name=”span”, attrs={“class”:”company”}) \n",
    "#     if len(company) > 0: \n",
    "#       for b in company:\n",
    "#         job_post.append(b.text.strip()) \n",
    "#     else: \n",
    "#       sec_try = div.find_all(name=”span”, attrs={“class”:”result-link-source”})\n",
    "#       for span in sec_try:\n",
    "#         job_post.append(span.text) \n",
    "#     #grabbing location name\n",
    "#     c = div.findAll(‘span’, attrs={‘class’: ‘location’}) \n",
    "#     for span in c: \n",
    "#       job_post.append(span.text) \n",
    "#     #grabbing summary text\n",
    "#     d = div.findAll(‘span’, attrs={‘class’: ‘summary’}) \n",
    "#       for span in d:\n",
    "#         job_post.append(span.text.strip()) \n",
    "#     #grabbing salary\n",
    "#     try:\n",
    "#       job_post.append(div.find(‘nobr’).text) \n",
    "#     except:\n",
    "#       try:\n",
    "#         div_two = div.find(name=”div”, attrs={“class”:”sjcl”}) \n",
    "#         div_three = div_two.find(“div”) \n",
    "#         job_post.append(div_three.text.strip())\n",
    "#       except:\n",
    "#         job_post.append(“Nothing_found”) \n",
    "#     #appending list of job post info to dataframe at index num\n",
    "#     sample_df.loc[num] = job_post"
   ]
  },
  {
   "cell_type": "code",
   "execution_count": null,
   "metadata": {},
   "outputs": [],
   "source": [
    "#Drop duplicate based on desc and reset index\n",
    "sample_df = sample_df.drop_duplicates(subset='desc').reset_index(drop=True)\n",
    "sample_df"
   ]
  },
  {
   "cell_type": "code",
   "execution_count": null,
   "metadata": {},
   "outputs": [],
   "source": [
    "#Save file to local drive\n",
    "sample_df.to_csv('jobdata1.csv', encoding='utf-8')"
   ]
  },
  {
   "cell_type": "code",
   "execution_count": null,
   "metadata": {},
   "outputs": [],
   "source": [
    "#check final shape\n",
    "sample_df.shape"
   ]
  },
  {
   "cell_type": "code",
   "execution_count": null,
   "metadata": {},
   "outputs": [],
   "source": [
    "#scrapping for brisbane\n",
    "for i,k in enumerate(url_list3):\n",
    "    temp_url2 = 'https://au.indeed.com/viewjob?jk=' + k\n",
    "    time.sleep(0.2)  #ensuring at least 1 second between page grabs\n",
    "    content2 = requests.get(temp_url2)\n",
    "    soup2 = BeautifulSoup(content2.text, 'lxml', from_encoding='utf-8')\n",
    "    jt = soup2.find(name='h3', attrs={'class':'icl-u-xs-mb--xs icl-u-xs-mt--none jobsearch-JobInfoHeader-title'})\n",
    "    if jt is not None:\n",
    "        sample_df2.job_title[i] = jt.text\n",
    "        cn = soup2.find(name='div',attrs={'class':'icl-u-lg-mr--sm icl-u-xs-mr--xs'})\n",
    "        if cn is not None:\n",
    "            sample_df2.company_name[i] = cn.text\n",
    "        else:\n",
    "            sample_df2.company_name[i] = url_list3[i]\n",
    "        rt = soup2.find(name='meta',attrs={'itemprop':'ratingValue'})\n",
    "        if rt is not None:\n",
    "            sample_df2.company_rating[i] = rt[\"content\"]\n",
    "        lc = soup2.find(name='span',attrs={'class':'jobsearch-JobMetadataHeader-iconLabel'})\n",
    "        if lc is not None:\n",
    "            if \"$\" in lc:\n",
    "                sample_df2.salary = lc.text\n",
    "            else:\n",
    "                sample_df2.location[i] = lc.text\n",
    "            metalist = soup2.find_all(name='span',attrs={'class':'jobsearch-JobMetadataHeader-iconLabel'})\n",
    "            for x in range(1,len(metalist)):\n",
    "                if \"$\" in metalist[x].text:\n",
    "                    sample_df2.salary[i] = metalist[x].text\n",
    "                else:\n",
    "                    sample_df2.work_type[i] = metalist[x].text\n",
    "        desc = soup2.find(name='div',attrs={'class':'jobsearch-jobDescriptionText'})\n",
    "        if desc is not None:\n",
    "            sample_df2.desc[i] = desc.text"
   ]
  },
  {
   "cell_type": "code",
   "execution_count": null,
   "metadata": {},
   "outputs": [],
   "source": [
    "rowcount2 = len(sample_df2[~(sample_df2['job_title']=='e')].index)\n",
    "rowcount2"
   ]
  },
  {
   "cell_type": "code",
   "execution_count": null,
   "metadata": {},
   "outputs": [],
   "source": [
    "#scrapping for brisbane\n",
    "for t,k in enumerate(url_list4):\n",
    "    temp_url2 = 'https://au.indeed.com/viewjob?jk=' + k\n",
    "    time.sleep(0.2)  #ensuring at least 1 second between page grabs\n",
    "    i = t + rowcount2\n",
    "    content2 = requests.get(temp_url2)\n",
    "    soup2 = BeautifulSoup(content2.text, 'lxml', from_encoding='utf-8')\n",
    "    jt = soup2.find(name='h3', attrs={'class':'icl-u-xs-mb--xs icl-u-xs-mt--none jobsearch-JobInfoHeader-title'})\n",
    "    if jt is not None:\n",
    "        sample_df2.job_title[i] = jt.text\n",
    "        cn = soup2.find(name='div',attrs={'class':'icl-u-lg-mr--sm icl-u-xs-mr--xs'})\n",
    "        if cn is not None:\n",
    "            sample_df2.company_name[i] = cn.text\n",
    "        else:\n",
    "            sample_df2.company_name[i] = url_list4[t]\n",
    "        rt = soup2.find(name='meta',attrs={'itemprop':'ratingValue'})\n",
    "        if rt is not None:\n",
    "            sample_df2.company_rating[i] = rt[\"content\"]\n",
    "        lc = soup2.find(name='span',attrs={'class':'jobsearch-JobMetadataHeader-iconLabel'})\n",
    "        if lc is not None:\n",
    "            if \"$\" in lc:\n",
    "                sample_df2.salary = lc.text\n",
    "            else:\n",
    "                sample_df2.location[i] = lc.text\n",
    "            metalist = soup2.find_all(name='span',attrs={'class':'jobsearch-JobMetadataHeader-iconLabel'})\n",
    "            for x in range(1,len(metalist)):\n",
    "                if \"$\" in metalist[x].text:\n",
    "                    sample_df2.salary[i] = metalist[x].text\n",
    "                else:\n",
    "                    sample_df2.work_type[i] = metalist[x].text\n",
    "        desc = soup2.find(name='div',attrs={'class':'jobsearch-jobDescriptionText'})\n",
    "        if desc is not None:\n",
    "            sample_df2.desc[i] = desc.text\n"
   ]
  },
  {
   "cell_type": "code",
   "execution_count": null,
   "metadata": {},
   "outputs": [],
   "source": [
    "sample_df2.shape\n",
    "sample_df2[~(sample_df2['job_title']=='e')]"
   ]
  },
  {
   "cell_type": "code",
   "execution_count": null,
   "metadata": {},
   "outputs": [],
   "source": [
    "sample_df2 = sample_df2.dropna(subset=['salary'])\n",
    "sample_df2"
   ]
  },
  {
   "cell_type": "code",
   "execution_count": null,
   "metadata": {},
   "outputs": [],
   "source": [
    "sample_df2 = sample_df2.drop_duplicates(subset='desc').reset_index(drop=True)"
   ]
  },
  {
   "cell_type": "code",
   "execution_count": null,
   "metadata": {},
   "outputs": [],
   "source": [
    "sample_df2 = sample_df2.drop(columns='Unnamed: 0')\n",
    "sample_df2"
   ]
  },
  {
   "cell_type": "code",
   "execution_count": null,
   "metadata": {},
   "outputs": [],
   "source": [
    "sample_df2.to_csv('jobdata2.csv', encoding='utf-8')"
   ]
  },
  {
   "cell_type": "code",
   "execution_count": null,
   "metadata": {},
   "outputs": [],
   "source": [
    "sample_df = pd.read_csv('jobdata1.csv')\n",
    "sample_df2 = pd.read_csv('jobdata2.csv')"
   ]
  },
  {
   "cell_type": "code",
   "execution_count": null,
   "metadata": {},
   "outputs": [],
   "source": [
    "final_job_list = [sample_df, sample_df2]"
   ]
  },
  {
   "cell_type": "code",
   "execution_count": null,
   "metadata": {},
   "outputs": [],
   "source": [
    "final_job = pd.concat(final_job_list, sort=False)"
   ]
  },
  {
   "cell_type": "code",
   "execution_count": null,
   "metadata": {},
   "outputs": [],
   "source": [
    "#final_job = final_job.drop(columns='Unnamed: 0')\n",
    "final_job.location.value_counts()"
   ]
  },
  {
   "cell_type": "code",
   "execution_count": null,
   "metadata": {},
   "outputs": [],
   "source": [
    "import pandas_profiling\n",
    "profile = pandas_profiling.ProfileReport(final_job)"
   ]
  },
  {
   "cell_type": "code",
   "execution_count": null,
   "metadata": {},
   "outputs": [],
   "source": [
    "profile"
   ]
  },
  {
   "cell_type": "code",
   "execution_count": null,
   "metadata": {},
   "outputs": [],
   "source": [
    "final_job.salary.value_counts()"
   ]
  },
  {
   "cell_type": "code",
   "execution_count": null,
   "metadata": {},
   "outputs": [],
   "source": [
    "url_list5 = []\n",
    "for page in range (1, 300):\n",
    "    temp_url = \"https://au.indeed.com/jobs?q=data+$20,000&l=Perth&start=%s\" % ((page-1)*10)\n",
    "    time.sleep(0.2)\n",
    "    #conducting a request of the stated URL above:\n",
    "    content = requests.get(temp_url)\n",
    "    #specifying a desired format of “page” using the html parser - this allows python to \n",
    "    #read the various components of the page, rather than treating it as one long string.\n",
    "    page_soup = BeautifulSoup(markup=content.text,features='lxml')\n",
    "    #printing soup in a more structured tree \n",
    "    #format that makes for easier reading\n",
    "    for div in page_soup.find_all(name='div', \n",
    "                                  attrs={'class':\n",
    "                                         'jobsearch-SerpJobCard'}):\n",
    "        url_list5.append(div['data-jk'])\n",
    "len(url_list5)"
   ]
  },
  {
   "cell_type": "code",
   "execution_count": null,
   "metadata": {},
   "outputs": [],
   "source": [
    "sample_df3 = pd.DataFrame(columns = columns)\n",
    "sample_df3['job_title'] = ['e' for number in range(8000)]"
   ]
  },
  {
   "cell_type": "code",
   "execution_count": null,
   "metadata": {},
   "outputs": [],
   "source": [
    "#Scrapping for Melbourne\n",
    "for i,k in enumerate(url_list5):\n",
    "    temp_url2 = 'https://au.indeed.com/viewjob?jk=' + k\n",
    "    time.sleep(0.2)  #ensuring at least 1 second between page grabs\n",
    "    content2 = requests.get(temp_url2)\n",
    "    soup2 = BeautifulSoup(content2.text, 'lxml', from_encoding='utf-8')\n",
    "    jt = soup2.find(name='h3', attrs={'class':'icl-u-xs-mb--xs icl-u-xs-mt--none jobsearch-JobInfoHeader-title'})\n",
    "    if jt is not None:\n",
    "        sample_df3.job_title[i] = jt.text\n",
    "        cn = soup2.find(name='div',attrs={'class':'icl-u-lg-mr--sm icl-u-xs-mr--xs'})\n",
    "        if cn is not None:\n",
    "            sample_df3.company_name[i] = cn.text\n",
    "        else:\n",
    "            sample_df3.company_name[i] = url_list5[i]\n",
    "        rt = soup2.find(name='meta',attrs={'itemprop':'ratingValue'})\n",
    "        if rt is not None:\n",
    "            sample_df3.company_rating[i] = rt[\"content\"]\n",
    "        lc = soup2.find(name='span',attrs={'class':'jobsearch-JobMetadataHeader-iconLabel'})\n",
    "        if lc is not None:\n",
    "            if \"$\" in lc:\n",
    "                sample_df3.salary = lc.text\n",
    "            else:\n",
    "                sample_df3.location[i] = lc.text\n",
    "            metalist = soup2.find_all(name='span',attrs={'class':'jobsearch-JobMetadataHeader-iconLabel'})\n",
    "            for x in range(1,len(metalist)):\n",
    "                if \"$\" in metalist[x].text:\n",
    "                    sample_df3.salary[i] = metalist[x].text\n",
    "                else:\n",
    "                    sample_df3.work_type[i] = metalist[x].text\n",
    "        desc = soup2.find(name='div',attrs={'class':'jobsearch-jobDescriptionText'})\n",
    "        if desc is not None:\n",
    "            sample_df3.desc[i] = desc.text"
   ]
  },
  {
   "cell_type": "code",
   "execution_count": null,
   "metadata": {},
   "outputs": [],
   "source": [
    "sample_df3"
   ]
  },
  {
   "cell_type": "code",
   "execution_count": null,
   "metadata": {},
   "outputs": [],
   "source": [
    "sample_df3 = sample_df3.dropna(subset=['salary'])\n",
    "sample_df3"
   ]
  },
  {
   "cell_type": "code",
   "execution_count": null,
   "metadata": {},
   "outputs": [],
   "source": [
    "sample_df3 = sample_df3.drop_duplicates(subset='desc').reset_index(drop=True)\n",
    "sample_df3"
   ]
  },
  {
   "cell_type": "code",
   "execution_count": null,
   "metadata": {},
   "outputs": [],
   "source": [
    "# sample_df3 = sample_df3.drop(columns='Unnamed: 0')\n",
    "# sample_df3"
   ]
  },
  {
   "cell_type": "code",
   "execution_count": null,
   "metadata": {},
   "outputs": [],
   "source": [
    "sample_df3.to_csv('jobdata3.csv', encoding='utf-8')"
   ]
  },
  {
   "cell_type": "code",
   "execution_count": null,
   "metadata": {},
   "outputs": [],
   "source": [
    "final_job2 = pd.concat([final_job, sample_df3])"
   ]
  },
  {
   "cell_type": "code",
   "execution_count": null,
   "metadata": {},
   "outputs": [],
   "source": [
    "final_job2 = final_job2.reset_index(drop=True)"
   ]
  },
  {
   "cell_type": "code",
   "execution_count": null,
   "metadata": {},
   "outputs": [],
   "source": [
    "final_job2"
   ]
  },
  {
   "cell_type": "code",
   "execution_count": null,
   "metadata": {},
   "outputs": [],
   "source": [
    "salary2 = [i.split(' ') for i in final_job2.salary.values]\n",
    "# salary2"
   ]
  },
  {
   "cell_type": "code",
   "execution_count": null,
   "metadata": {},
   "outputs": [],
   "source": [
    "final_job2['rate_type'] = [i[-1] for i in salary2]\n",
    "final_job2.rate_type.value_counts()"
   ]
  },
  {
   "cell_type": "code",
   "execution_count": null,
   "metadata": {},
   "outputs": [],
   "source": [
    "final_job2['min'] = [float(i[0].replace(',','').replace('$','')) for i in salary2]\n",
    "final_job2['min'].head(20)"
   ]
  },
  {
   "cell_type": "code",
   "execution_count": null,
   "metadata": {},
   "outputs": [],
   "source": [
    "final_job2['max'] = [float(i[2].replace('$','').replace(',','')) \n",
    "                         if len(i)>4 else float(i[0].replace('$','').replace(',',''))\n",
    "                    for i in salary2]\n",
    "final_job2['max'].head()"
   ]
  },
  {
   "cell_type": "code",
   "execution_count": null,
   "metadata": {},
   "outputs": [],
   "source": [
    "final_job2['mean'] = (final_job2['min'] + final_job2['max'])/2"
   ]
  },
  {
   "cell_type": "code",
   "execution_count": null,
   "metadata": {},
   "outputs": [],
   "source": [
    "final_job2.head(10)"
   ]
  },
  {
   "cell_type": "code",
   "execution_count": null,
   "metadata": {},
   "outputs": [],
   "source": [
    "#converting non annual rate to annual one, taking 38 hours, 45 weeks as a standard, 10.3 months approximately\n",
    "final_job2['mean_anual'] = 0\n",
    "final_job2['mean_anual'][final_job2['rate_type']=='hour'] = final_job2['mean'][final_job2['rate_type']=='hour']*1710\n",
    "final_job2['mean_anual'][final_job2['rate_type']=='day'] = final_job2['mean'][final_job2['rate_type']=='day']*225\n",
    "final_job2['mean_anual'][final_job2['rate_type']=='week'] = final_job2['mean'][final_job2['rate_type']=='week']*45\n",
    "final_job2['mean_anual'][final_job2['rate_type']=='month'] = final_job2['mean'][final_job2['rate_type']=='month']*10.3\n",
    "final_job2['mean_anual'][final_job2['rate_type']=='year'] = final_job2['mean'][final_job2['rate_type']=='year']\n",
    "#round up salary needed?\n",
    "final_job2['mean_anual2']= final_job2.mean_anual.round(decimals=-3)"
   ]
  },
  {
   "cell_type": "code",
   "execution_count": null,
   "metadata": {},
   "outputs": [],
   "source": []
  },
  {
   "cell_type": "code",
   "execution_count": null,
   "metadata": {},
   "outputs": [],
   "source": [
    "final_job2.head()"
   ]
  },
  {
   "cell_type": "code",
   "execution_count": null,
   "metadata": {},
   "outputs": [],
   "source": [
    "final_job2['state'] = [i.split(' ')[-1] \n",
    "#                        if len(i.split(' '))<3 \n",
    "#                        else i.split(' ')[-2] \n",
    "                       for i in final_job2['location']]\n",
    "final_job2['state'][final_job2['state']=='Victoria'] = 'VIC'\n",
    "final_job2['state'][final_job2['state']=='Australia'] = 'ACT'\n",
    "final_job2['state'].value_counts()"
   ]
  },
  {
   "cell_type": "code",
   "execution_count": null,
   "metadata": {},
   "outputs": [],
   "source": [
    "def statecode(x):\n",
    "    if len(x)>3 & len(x)<5:\n",
    "        if int(x) < 3000:\n",
    "            return 'NSW'\n",
    "        elif int(x) < 4000:\n",
    "            return 'VIC'\n",
    "        elif int(x) < 5000:\n",
    "            return 'QLD'\n",
    "        else:\n",
    "            return 'WA'\n",
    "final_job2['state'] = [i if len(i)<4 else statecode(i) for i in final_job2['state']]\n",
    "final_job2['state'].value_counts()"
   ]
  },
  {
   "cell_type": "code",
   "execution_count": null,
   "metadata": {},
   "outputs": [],
   "source": [
    "final_job2.head(10).T"
   ]
  },
  {
   "cell_type": "code",
   "execution_count": null,
   "metadata": {},
   "outputs": [],
   "source": [
    "final_job2['titlendesc'] = final_job2['job_title'] + ' ' + final_job2['desc']"
   ]
  },
  {
   "cell_type": "code",
   "execution_count": null,
   "metadata": {},
   "outputs": [],
   "source": [
    "final_job2.to_csv('fjobdata.csv', encoding='utf-8')"
   ]
  },
  {
   "cell_type": "code",
   "execution_count": null,
   "metadata": {},
   "outputs": [],
   "source": [
    "final_job2 = pd.read_csv('fjobdata.csv')"
   ]
  },
  {
   "cell_type": "code",
   "execution_count": null,
   "metadata": {},
   "outputs": [],
   "source": [
    "final_job2.head(10).T\n",
    "final_job2.total[0]"
   ]
  },
  {
   "cell_type": "code",
   "execution_count": null,
   "metadata": {},
   "outputs": [],
   "source": [
    "from wordcloud import WordCloud, STOPWORDS\n",
    "\n",
    "jd_string = ' '.join(final_job2['desc'])\n",
    "\n",
    "wordcloud = WordCloud(stopwords=STOPWORDS,background_color='white', height = 1500, width = 2000).generate(jd_string)\n",
    "\n",
    "plt.figure(figsize=(20,15))\n",
    "plt.imshow(wordcloud)\n",
    "plt.axis('off')\n",
    "plt.show()"
   ]
  },
  {
   "cell_type": "code",
   "execution_count": null,
   "metadata": {},
   "outputs": [],
   "source": [
    "final_job2.mean_anual.describe()"
   ]
  },
  {
   "cell_type": "code",
   "execution_count": null,
   "metadata": {},
   "outputs": [],
   "source": [
    "def salaryrank(x):\n",
    "    if x < 55000:\n",
    "        return '0.0'\n",
    "    elif x < 72753.5:\n",
    "        return '1.0'\n",
    "    else:\n",
    "        return '2.0'\n",
    "    \n",
    "final_job2['salaryrank'] = [salaryrank(i) for i in final_job2.mean_anual.values]"
   ]
  },
  {
   "cell_type": "code",
   "execution_count": null,
   "metadata": {},
   "outputs": [],
   "source": [
    "final_job2.head(10).T"
   ]
  },
  {
   "cell_type": "code",
   "execution_count": null,
   "metadata": {},
   "outputs": [],
   "source": [
    "final_job2['company_rating']=final_job2['company_rating'].fillna('Not Available')\n",
    "final_job2.head().T"
   ]
  },
  {
   "cell_type": "code",
   "execution_count": null,
   "metadata": {},
   "outputs": [],
   "source": [
    "final_job2['total'] = 'Location:'+ final_job2['location'] + ', '  \\\n",
    "                    + 'Company name:' + final_job2['company_name'] + ', '\\\n",
    "                    + 'Company rating:' + final_job2['company_rating'].astype(str) + ', '\\\n",
    "                    + 'Pay frequency:' + final_job2['rate_type'] + ', '\\\n",
    "                    + 'State:' + final_job2['state'] + ', '\\\n",
    "                    + 'JobTitle and ' + 'JobDescription:' + final_job2['titlendesc']"
   ]
  },
  {
   "cell_type": "code",
   "execution_count": null,
   "metadata": {},
   "outputs": [],
   "source": [
    "# import re\n",
    "# final_job2['total'] = final_job2['total'].apply(lambda x: re.sub(r'([a-z](?=[A-Z])|[A-Z](?=[A-Z][a-z]))', r'\\1 ', x\\\n",
    "#       .replace(':',': ').replace(')',') ')))\n",
    "final_job2['total'][0]"
   ]
  },
  {
   "cell_type": "code",
   "execution_count": null,
   "metadata": {},
   "outputs": [],
   "source": [
    "%reload_ext autoreload\n",
    "%autoreload 2\n",
    "%matplotlib inline\n",
    "\n",
    "from fastai import *\n",
    "from fastai.text import *\n",
    "from fastai.data_block import *\n",
    "from sklearn.linear_model import LogisticRegression\n",
    "from sklearn.svm import LinearSVC\n",
    "from torchtext import vocab, data, datasets\n",
    "import pandas as pd\n",
    "from sklearn.feature_extraction.text import CountVectorizer"
   ]
  },
  {
   "cell_type": "code",
   "execution_count": null,
   "metadata": {},
   "outputs": [],
   "source": [
    "n = len(final_job2)"
   ]
  },
  {
   "cell_type": "code",
   "execution_count": null,
   "metadata": {},
   "outputs": [],
   "source": [
    "def get_cv_idxs(n, cv_idx=0, val_pct=0.5, seed=42):\n",
    "    \"\"\" Get a list of index values for Validation set from a dataset\n",
    "    \n",
    "    Arguments:\n",
    "        n : int, Total number of elements in the data set.\n",
    "        cv_idx : int, starting index [idx_start = cv_idx*int(val_pct*n)] \n",
    "        val_pct : (int, float), validation set percentage \n",
    "        seed : seed value for RandomState\n",
    "        \n",
    "    Returns:\n",
    "        list of indexes \n",
    "    \"\"\"\n",
    "    np.random.seed(seed)\n",
    "    n_val = int(val_pct*n)\n",
    "    idx_start = cv_idx*n_val\n",
    "    idxs = np.random.permutation(n)\n",
    "    return idxs[idx_start:idx_start+n_val]"
   ]
  },
  {
   "cell_type": "code",
   "execution_count": 98,
   "metadata": {},
   "outputs": [
    {
     "data": {
      "text/plain": [
       "array([294, 453, 638, 139, ..., 193, 432, 743, 578])"
      ]
     },
     "execution_count": 98,
     "metadata": {},
     "output_type": "execute_result"
    }
   ],
   "source": [
    "val_idx = get_cv_idxs(n, val_pct=0.4)\n",
    "val_idx"
   ]
  },
  {
   "cell_type": "code",
   "execution_count": 99,
   "metadata": {},
   "outputs": [
    {
     "data": {
      "text/plain": [
       "2.0    202\n",
       "0.0    108\n",
       "1.0    103\n",
       "Name: salaryrank, dtype: int64"
      ]
     },
     "execution_count": 99,
     "metadata": {},
     "output_type": "execute_result"
    }
   ],
   "source": [
    "final_job2.salaryrank[val_idx].value_counts()"
   ]
  },
  {
   "cell_type": "code",
   "execution_count": 100,
   "metadata": {},
   "outputs": [],
   "source": [
    "final_job2[['total','salaryrank']].to_csv('fj2.csv', encoding='utf-8')"
   ]
  },
  {
   "cell_type": "code",
   "execution_count": 101,
   "metadata": {},
   "outputs": [],
   "source": [
    "bs=36\n",
    "data_lm = (TextList.from_csv('./', 'fj2.csv', cols='total')\n",
    "           #Inputs: all the text files in path\n",
    "            #.filter_by_folder(include=['train', 'test', 'unsup']) \n",
    "           #We may have other temp folders that contain text files so we only keep what's in train and test\n",
    "            .split_by_idx(val_idx)\n",
    "           #We randomly split and keep 10% (10,000 reviews) for validation\n",
    "            .label_for_lm()           \n",
    "           #We want to do a language model so we label accordingly\n",
    "            .databunch(bs=bs))\n",
    "data_lm.save('data_lm.pkl')"
   ]
  },
  {
   "cell_type": "code",
   "execution_count": 102,
   "metadata": {},
   "outputs": [],
   "source": [
    "data_lm = load_data('./', 'data_lm.pkl', bs=bs)"
   ]
  },
  {
   "cell_type": "code",
   "execution_count": 103,
   "metadata": {},
   "outputs": [
    {
     "data": {
      "text/html": [
       "<table border=\"1\" class=\"dataframe\">\n",
       "  <thead>\n",
       "    <tr style=\"text-align: right;\">\n",
       "      <th>idx</th>\n",
       "      <th>text</th>\n",
       "    </tr>\n",
       "  </thead>\n",
       "  <tbody>\n",
       "    <tr>\n",
       "      <td>0</td>\n",
       "      <td>an experienced xxup hse xxmaj safety xxmaj officer to join their team and co - ordinate all safety protocols during the development of the xxmaj solar xxmaj farm in xxmaj cohuna xxup vic . xxmaj the successful candidate will be responsible for provision of xxmaj safety xxmaj processes and xxmaj protocols during the xxmaj installation of xxmaj solar xxmaj energy xxmaj systems . xxmaj responsibilities : xxmaj to review and</td>\n",
       "    </tr>\n",
       "    <tr>\n",
       "      <td>1</td>\n",
       "      <td>to the level determined by the xxmaj department xxmaj head . xxmaj to obtain this clearance applicants must be an xxmaj australian xxmaj citizen . \\n  xxmaj the incumbent will be required to complete the xxup xxunk requirements of the organisation , which may include local level training relating to equipment usage and xxmaj xxunk xxmaj chemicals . \\n  xxmaj the position may require you to work outside</td>\n",
       "    </tr>\n",
       "    <tr>\n",
       "      <td>2</td>\n",
       "      <td>found in the position description . \\n \\n \\n  xxmaj benefits \\n \\n  xxmaj salary sacrifice options \\n  xxmaj professional development opportunities \\n  xxmaj flexible working arrangements available \\n  xxmaj paid study leave \\n  xxmaj on - site gym and more ! \\n \\n \\n  xxmaj how to apply \\n \\n  xxmaj for a xxmaj position xxmaj description and to submit an</td>\n",
       "    </tr>\n",
       "    <tr>\n",
       "      <td>3</td>\n",
       "      <td>, xxmaj state : xxup vic , xxmaj job xxmaj title and xxmaj job xxmaj description : xxmaj surveys xxmaj officer xxmaj job no : xxunk \\n  xxmaj work type : xxmaj full - time \\n  xxmaj location : xxmaj geelong - xxmaj city \\n  xxmaj categories : xxmaj administration \\n  xxmaj the xxmaj division : \\n \\n  xxmaj the xxmaj strategic xxmaj intelligence and</td>\n",
       "    </tr>\n",
       "    <tr>\n",
       "      <td>4</td>\n",
       "      <td>\\n \\n  xxmaj the xxmaj australian - first xxmaj ai xxup lecs lab focuses on : \\n \\n  xxmaj xxunk algorithms and xxunk performance techniques ( important for xxunk use and public accountability ) \\n  xxmaj xxunk image and video machine learning classification algorithms \\n  xxmaj image xxunk \\n  xxmaj scalable xxunk xxunk image detection techniques \\n  xxmaj techniques for leveraging massive law enforcement</td>\n",
       "    </tr>\n",
       "  </tbody>\n",
       "</table>"
      ],
      "text/plain": [
       "<IPython.core.display.HTML object>"
      ]
     },
     "metadata": {},
     "output_type": "display_data"
    }
   ],
   "source": [
    "data_lm.show_batch()"
   ]
  },
  {
   "cell_type": "code",
   "execution_count": 104,
   "metadata": {},
   "outputs": [],
   "source": [
    "learn = language_model_learner(data_lm, AWD_LSTM, drop_mult=0.4)"
   ]
  },
  {
   "cell_type": "code",
   "execution_count": 105,
   "metadata": {},
   "outputs": [
    {
     "data": {
      "text/html": [],
      "text/plain": [
       "<IPython.core.display.HTML object>"
      ]
     },
     "metadata": {},
     "output_type": "display_data"
    },
    {
     "name": "stdout",
     "output_type": "stream",
     "text": [
      "LR Finder is complete, type {learner_name}.recorder.plot() to see the graph.\n"
     ]
    }
   ],
   "source": [
    "learn.lr_find()"
   ]
  },
  {
   "cell_type": "code",
   "execution_count": 106,
   "metadata": {},
   "outputs": [
    {
     "name": "stdout",
     "output_type": "stream",
     "text": [
      "Min numerical gradient: 8.32E-02\n",
      "Min loss divided by 10: 3.02E-02\n",
      "0.03019951720402019\n"
     ]
    },
    {
     "data": {
      "image/png": "[encoded data removed]",
      "text/plain": [
       "<Figure size 432x288 with 1 Axes>"
      ]
     },
     "metadata": {
      "image/png": {
       "height": 261,
       "width": 402
      },
      "needs_background": "light"
     },
     "output_type": "display_data"
    }
   ],
   "source": [
    "learn.recorder.plot(skip_end=15,suggestion=True)\n",
    "lrs = learn.recorder.lrs\n",
    "losses = learn.recorder.losses\n",
    "mg = (np.gradient(np.array(losses))).argmin()\n",
    "ml = np.argmin(losses)\n",
    "min_grad_lr = lrs[mg]\n",
    "min_loss_lr = lrs[ml]/10\n",
    "print(min_loss_lr)\n",
    "min_loss_lr = 3.02e-2"
   ]
  },
  {
   "cell_type": "code",
   "execution_count": 107,
   "metadata": {},
   "outputs": [
    {
     "data": {
      "text/html": [
       "<table border=\"1\" class=\"dataframe\">\n",
       "  <thead>\n",
       "    <tr style=\"text-align: left;\">\n",
       "      <th>epoch</th>\n",
       "      <th>train_loss</th>\n",
       "      <th>valid_loss</th>\n",
       "      <th>accuracy</th>\n",
       "      <th>time</th>\n",
       "    </tr>\n",
       "  </thead>\n",
       "  <tbody>\n",
       "    <tr>\n",
       "      <td>0</td>\n",
       "      <td>3.654872</td>\n",
       "      <td>3.199517</td>\n",
       "      <td>0.393551</td>\n",
       "      <td>07:55</td>\n",
       "    </tr>\n",
       "    <tr>\n",
       "      <td>1</td>\n",
       "      <td>3.152468</td>\n",
       "      <td>3.119119</td>\n",
       "      <td>0.411668</td>\n",
       "      <td>07:48</td>\n",
       "    </tr>\n",
       "    <tr>\n",
       "      <td>2</td>\n",
       "      <td>2.868008</td>\n",
       "      <td>3.021739</td>\n",
       "      <td>0.432339</td>\n",
       "      <td>07:50</td>\n",
       "    </tr>\n",
       "    <tr>\n",
       "      <td>3</td>\n",
       "      <td>2.597953</td>\n",
       "      <td>2.956726</td>\n",
       "      <td>0.445924</td>\n",
       "      <td>07:48</td>\n",
       "    </tr>\n",
       "    <tr>\n",
       "      <td>4</td>\n",
       "      <td>2.367929</td>\n",
       "      <td>2.869487</td>\n",
       "      <td>0.463564</td>\n",
       "      <td>07:30</td>\n",
       "    </tr>\n",
       "    <tr>\n",
       "      <td>5</td>\n",
       "      <td>2.125430</td>\n",
       "      <td>2.826837</td>\n",
       "      <td>0.472110</td>\n",
       "      <td>08:07</td>\n",
       "    </tr>\n",
       "    <tr>\n",
       "      <td>6</td>\n",
       "      <td>1.961532</td>\n",
       "      <td>2.819029</td>\n",
       "      <td>0.473990</td>\n",
       "      <td>07:55</td>\n",
       "    </tr>\n",
       "  </tbody>\n",
       "</table>"
      ],
      "text/plain": [
       "<IPython.core.display.HTML object>"
      ]
     },
     "metadata": {},
     "output_type": "display_data"
    }
   ],
   "source": [
    "learn.fit_one_cycle(7, min_loss_lr)"
   ]
  },
  {
   "cell_type": "code",
   "execution_count": 108,
   "metadata": {},
   "outputs": [],
   "source": [
    "# learn.save('fit_head')"
   ]
  },
  {
   "cell_type": "code",
   "execution_count": 109,
   "metadata": {},
   "outputs": [],
   "source": [
    "# learn.load('fit_head')\n",
    "# learn.unfreeze()\n",
    "# learn.fit_one_cycle(4, 1e-3, moms=(0.85,0.7))"
   ]
  },
  {
   "cell_type": "code",
   "execution_count": 110,
   "metadata": {},
   "outputs": [],
   "source": [
    "learn.save('fine_tuned')\n",
    "learn.load('fine_tuned')\n",
    "learn.save_encoder('fine_tuned_enc')"
   ]
  },
  {
   "cell_type": "code",
   "execution_count": 111,
   "metadata": {},
   "outputs": [],
   "source": [
    "data_clas = (TextList.from_csv('./', 'fj2.csv', cols='total')\n",
    "             #grab all the text files in path\n",
    "             .split_by_idx(val_idx)\n",
    "             #split by train and valid folder (that only keeps 'train' and 'test' so no need to filter)\n",
    "             .label_from_df(cols='salaryrank',label_cls=FloatList)\n",
    "             #label them all with their folders\n",
    "             .databunch(bs=bs))\n",
    "\n",
    "data_clas.save('data_clas.pkl')"
   ]
  },
  {
   "cell_type": "code",
   "execution_count": 112,
   "metadata": {},
   "outputs": [
    {
     "data": {
      "text/html": [
       "<table border=\"1\" class=\"dataframe\">\n",
       "  <thead>\n",
       "    <tr style=\"text-align: right;\">\n",
       "      <th>text</th>\n",
       "      <th>target</th>\n",
       "    </tr>\n",
       "  </thead>\n",
       "  <tbody>\n",
       "    <tr>\n",
       "      <td>xxbos xxmaj location : xxmaj queanbeyan xxup nsw 2620 , xxmaj company name : xxmaj queanbeyan - xxmaj palerang xxmaj regional xxmaj council , xxmaj company rating : xxmaj not xxmaj available , xxmaj pay frequency : week , xxmaj state : xxup nsw , xxmaj job xxmaj title and xxmaj job xxmaj description : xxmaj program xxmaj coordinator - xxmaj environmental xxmaj health xxmaj application xxmaj information xxmaj pack</td>\n",
       "      <td>2.0</td>\n",
       "    </tr>\n",
       "    <tr>\n",
       "      <td>xxbos xxmaj location : xxmaj queanbeyan xxup nsw 2620 , xxmaj company name : xxmaj queanbeyan - xxmaj palerang xxmaj regional xxmaj council , xxmaj company rating : xxmaj not xxmaj available , xxmaj pay frequency : week , xxmaj state : xxup nsw , xxmaj job xxmaj title and xxmaj job xxmaj description : xxmaj foreman xxmaj concreting and xxmaj footpaths ( xxmaj ongoing ) xxmaj application xxmaj information</td>\n",
       "      <td>1.0</td>\n",
       "    </tr>\n",
       "    <tr>\n",
       "      <td>xxbos xxmaj location : xxmaj queanbeyan xxup nsw 2620 , xxmaj company name : xxmaj queanbeyan - xxmaj palerang xxmaj regional xxmaj council , xxmaj company rating : xxmaj not xxmaj available , xxmaj pay frequency : week , xxmaj state : xxup nsw , xxmaj job xxmaj title and xxmaj job xxmaj description : xxmaj waste xxmaj operator ( xxmaj ongoing ) xxmaj application xxmaj information xxmaj pack \\n</td>\n",
       "      <td>0.0</td>\n",
       "    </tr>\n",
       "    <tr>\n",
       "      <td>xxbos xxmaj location : xxmaj queanbeyan xxup nsw 2620 , xxmaj company name : xxmaj queanbeyan - xxmaj palerang xxmaj regional xxmaj council , xxmaj company rating : xxmaj not xxmaj available , xxmaj pay frequency : hour , xxmaj state : xxup nsw , xxmaj job xxmaj title and xxmaj job xxmaj description : xxmaj casual xxmaj sport and xxmaj recreation xxmaj facilitators xxmaj application xxmaj information xxmaj pack</td>\n",
       "      <td>0.0</td>\n",
       "    </tr>\n",
       "    <tr>\n",
       "      <td>xxbos xxmaj location : xxmaj queanbeyan xxup nsw 2620 , xxmaj company name : xxmaj queanbeyan - xxmaj palerang xxmaj regional xxmaj council , xxmaj company rating : xxmaj not xxmaj available , xxmaj pay frequency : week , xxmaj state : xxup nsw , xxmaj job xxmaj title and xxmaj job xxmaj description : xxmaj part - time xxmaj customer xxmaj service xxmaj officers ( xxmaj ongoing ) xxmaj</td>\n",
       "      <td>0.0</td>\n",
       "    </tr>\n",
       "  </tbody>\n",
       "</table>"
      ],
      "text/plain": [
       "<IPython.core.display.HTML object>"
      ]
     },
     "metadata": {},
     "output_type": "display_data"
    }
   ],
   "source": [
    "data_clas = load_data('./', 'data_clas.pkl', bs=bs)\n",
    "data_clas.show_batch()"
   ]
  },
  {
   "cell_type": "code",
   "execution_count": 113,
   "metadata": {},
   "outputs": [],
   "source": [
    "import math\n",
    "import torch\n",
    "from torch.optim.optimizer import Optimizer, required\n",
    "import itertools as it\n",
    "#from torch.optim import Optimizer\n",
    "#credit - Lookahead implementation from LonePatient - https://github.com/lonePatient/lookahead_pytorch/blob/master/optimizer.py\n",
    "#credit2 - RAdam code by https://github.com/LiyuanLucasLiu/RAdam/blob/master/radam.py\n",
    "\n",
    "\n",
    "class Ranger(Optimizer):\n",
    "    \n",
    "    def __init__(self, params, lr=1e-3, alpha=0.5, k=6, betas=(.9,0.999), eps=1e-8, weight_decay=0):\n",
    "        #parameter checks\n",
    "        if not 0.0 <= alpha <= 1.0:\n",
    "            raise ValueError(f'Invalid slow update rate: {alpha}')\n",
    "        if not 1 <= k:\n",
    "            raise ValueError(f'Invalid lookahead steps: {k}')\n",
    "        if not lr > 0:\n",
    "            raise ValueError(f'Invalid Learning Rate: {lr}')\n",
    "        if not eps > 0:\n",
    "            raise ValueError(f'Invalid eps: {eps}')\n",
    "        \n",
    "        #prep defaults and init torch.optim base\n",
    "        defaults = dict(lr=lr, betas=betas, eps=eps, weight_decay=weight_decay)\n",
    "        super().__init__(params,defaults)\n",
    "        \n",
    "        #now we can get to work...\n",
    "        for group in self.param_groups:\n",
    "            group[\"step_counter\"] = 0\n",
    "            #print(\"group step counter init\")\n",
    "                      \n",
    "        #look ahead params\n",
    "        self.alpha = alpha\n",
    "        self.k = k \n",
    "        \n",
    "        #radam buffer for state\n",
    "        self.radam_buffer = [[None,None,None] for ind in range(10)]\n",
    "        \n",
    "        #lookahead weights\n",
    "        self.slow_weights = [[p.clone().detach() for p in group['params']]\n",
    "                                for group in self.param_groups]\n",
    "        \n",
    "        #don't use grad for lookahead weights\n",
    "        for w in it.chain(*self.slow_weights):\n",
    "            w.requires_grad = False\n",
    "        \n",
    "    def __setstate__(self, state):\n",
    "        print(\"set state called\")\n",
    "        super(Ranger, self).__setstate__(state)\n",
    "       \n",
    "        \n",
    "    def step(self, closure=None):\n",
    "        loss = None\n",
    "        #note - below is commented out b/c I have other work that passes back the loss as a float, and thus not a callable closure.  \n",
    "        #Uncomment if you need to use the actual closure...\n",
    "        \n",
    "        #if closure is not None:\n",
    "            #loss = closure()\n",
    "            \n",
    "        #------------ radam\n",
    "        for group in self.param_groups:\n",
    "    \n",
    "            for p in group['params']:\n",
    "                if p.grad is None:\n",
    "                    continue\n",
    "                grad = p.grad.data.float()\n",
    "                if grad.is_sparse:\n",
    "                    raise RuntimeError('RAdam does not support sparse gradients')\n",
    "    \n",
    "                p_data_fp32 = p.data.float()\n",
    "    \n",
    "                state = self.state[p]\n",
    "    \n",
    "                if len(state) == 0:\n",
    "                    state['step'] = 0\n",
    "                    state['exp_avg'] = torch.zeros_like(p_data_fp32)\n",
    "                    state['exp_avg_sq'] = torch.zeros_like(p_data_fp32)\n",
    "                else:\n",
    "                    state['exp_avg'] = state['exp_avg'].type_as(p_data_fp32)\n",
    "                    state['exp_avg_sq'] = state['exp_avg_sq'].type_as(p_data_fp32)\n",
    "    \n",
    "                exp_avg, exp_avg_sq = state['exp_avg'], state['exp_avg_sq']\n",
    "                beta1, beta2 = group['betas']\n",
    "    \n",
    "                exp_avg_sq.mul_(beta2).addcmul_(1 - beta2, grad, grad)\n",
    "                exp_avg.mul_(beta1).add_(1 - beta1, grad)\n",
    "    \n",
    "                state['step'] += 1\n",
    "                buffered = self.radam_buffer[int(state['step'] % 10)]\n",
    "                if state['step'] == buffered[0]:\n",
    "                    N_sma, step_size = buffered[1], buffered[2]\n",
    "                else:\n",
    "                    buffered[0] = state['step']\n",
    "                    beta2_t = beta2 ** state['step']\n",
    "                    N_sma_max = 2 / (1 - beta2) - 1\n",
    "                    N_sma = N_sma_max - 2 * state['step'] * beta2_t / (1 - beta2_t)\n",
    "                    buffered[1] = N_sma\n",
    "                    if N_sma > 5:\n",
    "                        step_size = group['lr'] * math.sqrt((1 - beta2_t) * (N_sma - 4) / (N_sma_max - 4) * (N_sma - 2) / N_sma * N_sma_max / (N_sma_max - 2)) / (1 - beta1 ** state['step'])\n",
    "                    else:\n",
    "                        step_size = group['lr'] / (1 - beta1 ** state['step'])\n",
    "                    buffered[2] = step_size\n",
    "    \n",
    "                if group['weight_decay'] != 0:\n",
    "                    p_data_fp32.add_(-group['weight_decay'] * group['lr'], p_data_fp32)\n",
    "    \n",
    "                if N_sma > 5:                    \n",
    "                    denom = exp_avg_sq.sqrt().add_(group['eps'])\n",
    "                    p_data_fp32.addcdiv_(-step_size, exp_avg, denom)\n",
    "                else:\n",
    "                    p_data_fp32.add_(-step_size, exp_avg)\n",
    "    \n",
    "                p.data.copy_(p_data_fp32)\n",
    "        \n",
    "        \n",
    "        #---------------- end radam step\n",
    "        \n",
    "        #look ahead tracking and updating if latest batch = k\n",
    "        for group,slow_weights in zip(self.param_groups,self.slow_weights):\n",
    "            group['step_counter'] += 1\n",
    "            if group['step_counter'] % self.k != 0:\n",
    "                continue\n",
    "            for p,q in zip(group['params'],slow_weights):\n",
    "                if p.grad is None:\n",
    "                    continue\n",
    "                q.data.add_(self.alpha,p.data - q.data)\n",
    "                p.data.copy_(q.data)\n",
    "            \n",
    "        \n",
    "            \n",
    "        return loss"
   ]
  },
  {
   "cell_type": "code",
   "execution_count": 114,
   "metadata": {},
   "outputs": [],
   "source": [
    "from fastai.callbacks import *"
   ]
  },
  {
   "cell_type": "code",
   "execution_count": 115,
   "metadata": {},
   "outputs": [],
   "source": [
    "optar = partial(Ranger)\n",
    "def mean_absolute_error(pred:Tensor, targ:Tensor)->Rank0Tensor:\n",
    "    \"Mean absolute error between `pred` and `targ`.\"\n",
    "    pred,targ = flatten_check(pred,targ)\n",
    "    return -(torch.abs(targ - pred).mean())"
   ]
  },
  {
   "cell_type": "code",
   "execution_count": 116,
   "metadata": {},
   "outputs": [],
   "source": [
    "learn = text_classifier_learner(data_clas, AWD_LSTM,loss_func = MSELossFlat(), \n",
    "                                opt_func = optar,\n",
    "                                callback_fns = [\n",
    "                                #partial(EarlyStoppingCallback, monitor='mean_absolute_error', min_delta=0.001, patience=2),\n",
    "                                partial(ReduceLROnPlateauCallback),\n",
    "#                               partial(GradientClipping, clip=0.2),\n",
    "                                partial(SaveModelCallback, every = 'improvement', monitor='mean_absolute_error', name='bestmodel')],\n",
    "                                metrics=[mean_absolute_error,r2_score], drop_mult=0.6)\n",
    "learn.load_encoder('fine_tuned_enc');"
   ]
  },
  {
   "cell_type": "code",
   "execution_count": 117,
   "metadata": {},
   "outputs": [
    {
     "data": {
      "text/html": [],
      "text/plain": [
       "<IPython.core.display.HTML object>"
      ]
     },
     "metadata": {},
     "output_type": "display_data"
    },
    {
     "name": "stdout",
     "output_type": "stream",
     "text": [
      "set state called\n",
      "set state called\n",
      "LR Finder is complete, type {learner_name}.recorder.plot() to see the graph.\n"
     ]
    }
   ],
   "source": [
    "learn.lr_find()"
   ]
  },
  {
   "cell_type": "code",
   "execution_count": 118,
   "metadata": {},
   "outputs": [
    {
     "name": "stdout",
     "output_type": "stream",
     "text": [
      "Min numerical gradient: 1.20E-05\n",
      "Min loss divided by 10: 3.31E-01\n"
     ]
    },
    {
     "data": {
      "image/png": "[encoded data removed]",
      "text/plain": [
       "<Figure size 432x288 with 1 Axes>"
      ]
     },
     "metadata": {
      "image/png": {
       "height": 264,
       "width": 383
      },
      "needs_background": "light"
     },
     "output_type": "display_data"
    }
   ],
   "source": [
    "learn.recorder.plot(suggestion=True)"
   ]
  },
  {
   "cell_type": "code",
   "execution_count": 119,
   "metadata": {},
   "outputs": [],
   "source": [
    "lrs = learn.recorder.lrs\n",
    "losses = learn.recorder.losses\n",
    "mg = (np.gradient(np.array(losses))).argmin()\n",
    "ml = np.argmin(losses)\n",
    "min_grad_lr = lrs[mg]\n",
    "min_loss_lr = lrs[ml]/10"
   ]
  },
  {
   "cell_type": "code",
   "execution_count": 120,
   "metadata": {},
   "outputs": [
    {
     "data": {
      "text/html": [
       "<table border=\"1\" class=\"dataframe\">\n",
       "  <thead>\n",
       "    <tr style=\"text-align: left;\">\n",
       "      <th>epoch</th>\n",
       "      <th>train_loss</th>\n",
       "      <th>valid_loss</th>\n",
       "      <th>mean_absolute_error</th>\n",
       "      <th>r2_score</th>\n",
       "      <th>time</th>\n",
       "    </tr>\n",
       "  </thead>\n",
       "  <tbody>\n",
       "    <tr>\n",
       "      <td>0</td>\n",
       "      <td>1.066787</td>\n",
       "      <td>0.613172</td>\n",
       "      <td>-0.681787</td>\n",
       "      <td>0.051208</td>\n",
       "      <td>06:25</td>\n",
       "    </tr>\n",
       "    <tr>\n",
       "      <td>1</td>\n",
       "      <td>0.685927</td>\n",
       "      <td>0.558756</td>\n",
       "      <td>-0.629305</td>\n",
       "      <td>0.137660</td>\n",
       "      <td>06:08</td>\n",
       "    </tr>\n",
       "    <tr>\n",
       "      <td>2</td>\n",
       "      <td>0.582546</td>\n",
       "      <td>0.452784</td>\n",
       "      <td>-0.558118</td>\n",
       "      <td>0.277327</td>\n",
       "      <td>05:57</td>\n",
       "    </tr>\n",
       "    <tr>\n",
       "      <td>3</td>\n",
       "      <td>0.517924</td>\n",
       "      <td>0.407103</td>\n",
       "      <td>-0.510600</td>\n",
       "      <td>0.327638</td>\n",
       "      <td>06:03</td>\n",
       "    </tr>\n",
       "    <tr>\n",
       "      <td>4</td>\n",
       "      <td>0.470938</td>\n",
       "      <td>0.402481</td>\n",
       "      <td>-0.504181</td>\n",
       "      <td>0.331693</td>\n",
       "      <td>06:18</td>\n",
       "    </tr>\n",
       "    <tr>\n",
       "      <td>5</td>\n",
       "      <td>0.436508</td>\n",
       "      <td>0.399474</td>\n",
       "      <td>-0.502815</td>\n",
       "      <td>0.338273</td>\n",
       "      <td>06:24</td>\n",
       "    </tr>\n",
       "    <tr>\n",
       "      <td>6</td>\n",
       "      <td>0.417000</td>\n",
       "      <td>0.389709</td>\n",
       "      <td>-0.489613</td>\n",
       "      <td>0.354916</td>\n",
       "      <td>06:18</td>\n",
       "    </tr>\n",
       "    <tr>\n",
       "      <td>7</td>\n",
       "      <td>0.405457</td>\n",
       "      <td>0.384550</td>\n",
       "      <td>-0.486180</td>\n",
       "      <td>0.366300</td>\n",
       "      <td>06:49</td>\n",
       "    </tr>\n",
       "    <tr>\n",
       "      <td>8</td>\n",
       "      <td>0.401130</td>\n",
       "      <td>0.384701</td>\n",
       "      <td>-0.494101</td>\n",
       "      <td>0.367970</td>\n",
       "      <td>06:28</td>\n",
       "    </tr>\n",
       "    <tr>\n",
       "      <td>9</td>\n",
       "      <td>0.379956</td>\n",
       "      <td>0.390461</td>\n",
       "      <td>-0.497481</td>\n",
       "      <td>0.354409</td>\n",
       "      <td>3:39:24</td>\n",
       "    </tr>\n",
       "  </tbody>\n",
       "</table>"
      ],
      "text/plain": [
       "<IPython.core.display.HTML object>"
      ]
     },
     "metadata": {},
     "output_type": "display_data"
    },
    {
     "name": "stdout",
     "output_type": "stream",
     "text": [
      "Better model found at epoch 0 with mean_absolute_error value: -0.6817870736122131.\n",
      "Better model found at epoch 1 with mean_absolute_error value: -0.629305362701416.\n",
      "Better model found at epoch 2 with mean_absolute_error value: -0.5581175088882446.\n",
      "Better model found at epoch 3 with mean_absolute_error value: -0.510599672794342.\n",
      "Better model found at epoch 4 with mean_absolute_error value: -0.5041813254356384.\n",
      "Better model found at epoch 5 with mean_absolute_error value: -0.5028152465820312.\n",
      "Better model found at epoch 6 with mean_absolute_error value: -0.48961278796195984.\n",
      "Better model found at epoch 7 with mean_absolute_error value: -0.48617982864379883.\n",
      "Epoch 8: reducing lr to 2.971162079191577e-05\n",
      "Epoch 9: reducing lr to 2.4e-09\n",
      "set state called\n"
     ]
    }
   ],
   "source": [
    "learn.fit_one_cycle(10,min_loss_lr)"
   ]
  },
  {
   "cell_type": "code",
   "execution_count": 121,
   "metadata": {},
   "outputs": [
    {
     "name": "stdout",
     "output_type": "stream",
     "text": [
      "set state called\n"
     ]
    },
    {
     "data": {
      "text/html": [],
      "text/plain": [
       "<IPython.core.display.HTML object>"
      ]
     },
     "metadata": {},
     "output_type": "display_data"
    },
    {
     "name": "stdout",
     "output_type": "stream",
     "text": [
      "set state called\n",
      "LR Finder is complete, type {learner_name}.recorder.plot() to see the graph.\n",
      "Min numerical gradient: 1.58E-10\n",
      "Min loss divided by 10: 2.09E-11\n"
     ]
    },
    {
     "data": {
      "image/png": "[encoded data removed]",
      "text/plain": [
       "<Figure size 432x288 with 1 Axes>"
      ]
     },
     "metadata": {
      "image/png": {
       "height": 262,
       "width": 389
      },
      "needs_background": "light"
     },
     "output_type": "display_data"
    }
   ],
   "source": [
    "learn.save('first')\n",
    "learn.load('first');\n",
    "learn.freeze_to(-2)\n",
    "learn.lr_find(start_lr=1e-11)\n",
    "learn.recorder.plot(suggestion=True)\n",
    "lrs = learn.recorder.lrs\n",
    "losses = learn.recorder.losses\n",
    "mg = (np.gradient(np.array(losses))).argmin()\n",
    "ml = ml = np.argmin(losses)\n",
    "min_grad_lr = lrs[mg]\n",
    "min_loss_lr = lrs[ml]/10"
   ]
  },
  {
   "cell_type": "code",
   "execution_count": 122,
   "metadata": {},
   "outputs": [
    {
     "data": {
      "text/html": [
       "<table border=\"1\" class=\"dataframe\">\n",
       "  <thead>\n",
       "    <tr style=\"text-align: left;\">\n",
       "      <th>epoch</th>\n",
       "      <th>train_loss</th>\n",
       "      <th>valid_loss</th>\n",
       "      <th>mean_absolute_error</th>\n",
       "      <th>r2_score</th>\n",
       "      <th>time</th>\n",
       "    </tr>\n",
       "  </thead>\n",
       "  <tbody>\n",
       "    <tr>\n",
       "      <td>0</td>\n",
       "      <td>0.409846</td>\n",
       "      <td>0.385422</td>\n",
       "      <td>-0.491280</td>\n",
       "      <td>0.367184</td>\n",
       "      <td>06:31</td>\n",
       "    </tr>\n",
       "    <tr>\n",
       "      <td>1</td>\n",
       "      <td>0.393666</td>\n",
       "      <td>0.384012</td>\n",
       "      <td>-0.490411</td>\n",
       "      <td>0.368712</td>\n",
       "      <td>07:02</td>\n",
       "    </tr>\n",
       "    <tr>\n",
       "      <td>2</td>\n",
       "      <td>0.377684</td>\n",
       "      <td>0.381140</td>\n",
       "      <td>-0.487051</td>\n",
       "      <td>0.375749</td>\n",
       "      <td>07:18</td>\n",
       "    </tr>\n",
       "    <tr>\n",
       "      <td>3</td>\n",
       "      <td>0.377017</td>\n",
       "      <td>0.385457</td>\n",
       "      <td>-0.497184</td>\n",
       "      <td>0.367626</td>\n",
       "      <td>07:06</td>\n",
       "    </tr>\n",
       "    <tr>\n",
       "      <td>4</td>\n",
       "      <td>0.372538</td>\n",
       "      <td>0.386860</td>\n",
       "      <td>-0.493329</td>\n",
       "      <td>0.361900</td>\n",
       "      <td>06:35</td>\n",
       "    </tr>\n",
       "    <tr>\n",
       "      <td>5</td>\n",
       "      <td>0.362318</td>\n",
       "      <td>0.384172</td>\n",
       "      <td>-0.493664</td>\n",
       "      <td>0.368665</td>\n",
       "      <td>06:34</td>\n",
       "    </tr>\n",
       "    <tr>\n",
       "      <td>6</td>\n",
       "      <td>0.363730</td>\n",
       "      <td>0.384783</td>\n",
       "      <td>-0.492426</td>\n",
       "      <td>0.366823</td>\n",
       "      <td>06:59</td>\n",
       "    </tr>\n",
       "    <tr>\n",
       "      <td>7</td>\n",
       "      <td>0.367366</td>\n",
       "      <td>0.383907</td>\n",
       "      <td>-0.493990</td>\n",
       "      <td>0.372307</td>\n",
       "      <td>06:51</td>\n",
       "    </tr>\n",
       "    <tr>\n",
       "      <td>8</td>\n",
       "      <td>0.364232</td>\n",
       "      <td>0.382869</td>\n",
       "      <td>-0.489491</td>\n",
       "      <td>0.370683</td>\n",
       "      <td>06:09</td>\n",
       "    </tr>\n",
       "    <tr>\n",
       "      <td>9</td>\n",
       "      <td>0.367103</td>\n",
       "      <td>0.386450</td>\n",
       "      <td>-0.493357</td>\n",
       "      <td>0.362845</td>\n",
       "      <td>06:24</td>\n",
       "    </tr>\n",
       "  </tbody>\n",
       "</table>"
      ],
      "text/plain": [
       "<IPython.core.display.HTML object>"
      ]
     },
     "metadata": {},
     "output_type": "display_data"
    },
    {
     "name": "stdout",
     "output_type": "stream",
     "text": [
      "Better model found at epoch 0 with mean_absolute_error value: -0.491280198097229.\n",
      "Better model found at epoch 1 with mean_absolute_error value: -0.49041131138801575.\n",
      "Better model found at epoch 2 with mean_absolute_error value: -0.48705050349235535.\n",
      "Epoch 3: reducing lr to 1.3151494116188194e-12\n",
      "Epoch 4: reducing lr to 1.1231815678225835e-12\n",
      "Epoch 5: reducing lr to 8.457799962441106e-13\n",
      "Epoch 6: reducing lr to 5.378874802415298e-13\n",
      "Epoch 7: reducing lr to 2.6048590866305724e-13\n",
      "Epoch 8: reducing lr to 6.851806486682117e-14\n",
      "Epoch 9: reducing lr to 5.5346477673514925e-18\n",
      "set state called\n"
     ]
    }
   ],
   "source": [
    "learn.freeze_to(-2)\n",
    "learn.fit_one_cycle(10, slice(min_grad_lr,min_loss_lr))\n",
    "#learn.fit_one_cycle(4, 4.37e-2, moms=(0.85,0.75))"
   ]
  },
  {
   "cell_type": "code",
   "execution_count": 123,
   "metadata": {},
   "outputs": [],
   "source": [
    "# learn.save('second')\n",
    "# learn.load('second');\n",
    "# learn.freeze_to(-3)\n",
    "# learn.fit_one_cycle(1, slice(4e-3/(2.6**4),4e-3), moms=(0.85,0.75))"
   ]
  },
  {
   "cell_type": "code",
   "execution_count": 124,
   "metadata": {},
   "outputs": [
    {
     "name": "stdout",
     "output_type": "stream",
     "text": [
      "set state called\n"
     ]
    },
    {
     "data": {
      "text/html": [],
      "text/plain": [
       "<IPython.core.display.HTML object>"
      ]
     },
     "metadata": {},
     "output_type": "display_data"
    },
    {
     "name": "stdout",
     "output_type": "stream",
     "text": [
      "set state called\n",
      "LR Finder is complete, type {learner_name}.recorder.plot() to see the graph.\n",
      "Min numerical gradient: 1.58E-10\n",
      "Min loss divided by 10: 3.63E-11\n"
     ]
    },
    {
     "data": {
      "image/png": "[encoded data removed]",
      "text/plain": [
       "<Figure size 432x288 with 1 Axes>"
      ]
     },
     "metadata": {
      "image/png": {
       "height": 261,
       "width": 389
      },
      "needs_background": "light"
     },
     "output_type": "display_data"
    }
   ],
   "source": [
    "learn.save('third')\n",
    "learn.load('third');\n",
    "learn.unfreeze()\n",
    "learn.lr_find(start_lr=1e-11)\n",
    "learn.recorder.plot(suggestion=True)\n",
    "lrs = learn.recorder.lrs\n",
    "losses = learn.recorder.losses\n",
    "mg = (np.gradient(np.array(losses))).argmin()\n",
    "ml = np.argmin(losses)\n",
    "min_grad_lr = lrs[mg]\n",
    "min_loss_lr = lrs[ml]/10"
   ]
  },
  {
   "cell_type": "code",
   "execution_count": 125,
   "metadata": {},
   "outputs": [
    {
     "data": {
      "text/html": [
       "<table border=\"1\" class=\"dataframe\">\n",
       "  <thead>\n",
       "    <tr style=\"text-align: left;\">\n",
       "      <th>epoch</th>\n",
       "      <th>train_loss</th>\n",
       "      <th>valid_loss</th>\n",
       "      <th>mean_absolute_error</th>\n",
       "      <th>r2_score</th>\n",
       "      <th>time</th>\n",
       "    </tr>\n",
       "  </thead>\n",
       "  <tbody>\n",
       "    <tr>\n",
       "      <td>0</td>\n",
       "      <td>0.396747</td>\n",
       "      <td>0.386275</td>\n",
       "      <td>-0.494237</td>\n",
       "      <td>0.366162</td>\n",
       "      <td>14:28</td>\n",
       "    </tr>\n",
       "    <tr>\n",
       "      <td>1</td>\n",
       "      <td>0.382323</td>\n",
       "      <td>0.385655</td>\n",
       "      <td>-0.492631</td>\n",
       "      <td>0.367182</td>\n",
       "      <td>13:21</td>\n",
       "    </tr>\n",
       "  </tbody>\n",
       "</table>"
      ],
      "text/plain": [
       "<IPython.core.display.HTML object>"
      ]
     },
     "metadata": {},
     "output_type": "display_data"
    },
    {
     "name": "stdout",
     "output_type": "stream",
     "text": [
      "Better model found at epoch 0 with mean_absolute_error value: -0.49423715472221375.\n",
      "Better model found at epoch 1 with mean_absolute_error value: -0.4926309883594513.\n",
      "set state called\n"
     ]
    }
   ],
   "source": [
    "learn.unfreeze()\n",
    "learn.fit_one_cycle(2, max_lr = min_loss_lr*2)"
   ]
  },
  {
   "cell_type": "code",
   "execution_count": 132,
   "metadata": {},
   "outputs": [
    {
     "data": {
      "text/html": [
       "<div>\n",
       "<style scoped>\n",
       "    .dataframe tbody tr th:only-of-type {\n",
       "        vertical-align: middle;\n",
       "    }\n",
       "\n",
       "    .dataframe tbody tr th {\n",
       "        vertical-align: top;\n",
       "    }\n",
       "\n",
       "    .dataframe thead th {\n",
       "        text-align: right;\n",
       "    }\n",
       "</style>\n",
       "<table border=\"1\" class=\"dataframe\">\n",
       "  <thead>\n",
       "    <tr style=\"text-align: right;\">\n",
       "      <th></th>\n",
       "      <th>0</th>\n",
       "      <th>1</th>\n",
       "      <th>2</th>\n",
       "      <th>3</th>\n",
       "      <th>4</th>\n",
       "    </tr>\n",
       "  </thead>\n",
       "  <tbody>\n",
       "    <tr>\n",
       "      <th>Unnamed: 0</th>\n",
       "      <td>0</td>\n",
       "      <td>1</td>\n",
       "      <td>2</td>\n",
       "      <td>3</td>\n",
       "      <td>4</td>\n",
       "    </tr>\n",
       "    <tr>\n",
       "      <th>job_title</th>\n",
       "      <td>Data Associate</td>\n",
       "      <td>HSE Supervisor / Safety Officer Solar Farm - C...</td>\n",
       "      <td>Data Analytics Graduate</td>\n",
       "      <td>Privacy and Data Protection Specialist</td>\n",
       "      <td>Technology Specialist- Data Vault</td>\n",
       "    </tr>\n",
       "    <tr>\n",
       "      <th>location</th>\n",
       "      <td>Melbourne VIC</td>\n",
       "      <td>Cohuna VIC</td>\n",
       "      <td>Frankston VIC</td>\n",
       "      <td>Melbourne VIC</td>\n",
       "      <td>Melbourne VIC</td>\n",
       "    </tr>\n",
       "    <tr>\n",
       "      <th>work_type</th>\n",
       "      <td>Permanent</td>\n",
       "      <td>Contract, Casual</td>\n",
       "      <td>Permanent</td>\n",
       "      <td>NaN</td>\n",
       "      <td>NaN</td>\n",
       "    </tr>\n",
       "    <tr>\n",
       "      <th>company_name</th>\n",
       "      <td>Inflo APAC Limited</td>\n",
       "      <td>Workfast Pty Ltd</td>\n",
       "      <td>Frankston City Council</td>\n",
       "      <td>PwC</td>\n",
       "      <td>Cognizant Technology Solutions</td>\n",
       "    </tr>\n",
       "    <tr>\n",
       "      <th>company_rating</th>\n",
       "      <td>Not Available</td>\n",
       "      <td>4.5</td>\n",
       "      <td>3.0</td>\n",
       "      <td>4.0</td>\n",
       "      <td>3.900000095367432</td>\n",
       "    </tr>\n",
       "    <tr>\n",
       "      <th>salary</th>\n",
       "      <td>$50,000 - $59,999 a year</td>\n",
       "      <td>$45 an hour</td>\n",
       "      <td>$61,648 - $77,513 a year</td>\n",
       "      <td>$85,000 a year</td>\n",
       "      <td>$100,000 - $149,000 a year</td>\n",
       "    </tr>\n",
       "    <tr>\n",
       "      <th>desc</th>\n",
       "      <td>THE COMPANYInflo is an agile, forward-thinking...</td>\n",
       "      <td>Workfast is seeking an experienced HSE Safety ...</td>\n",
       "      <td>Data Analytics Graduate\\n\\nPermanent Full Time...</td>\n",
       "      <td>Line of Service\\nAssurance\\nIndustry/Sector\\nN...</td>\n",
       "      <td>About CognizantCognizant (Nasdaq-100: CTSH) is...</td>\n",
       "    </tr>\n",
       "    <tr>\n",
       "      <th>rate_type</th>\n",
       "      <td>year</td>\n",
       "      <td>hour</td>\n",
       "      <td>year</td>\n",
       "      <td>year</td>\n",
       "      <td>year</td>\n",
       "    </tr>\n",
       "    <tr>\n",
       "      <th>min</th>\n",
       "      <td>50000</td>\n",
       "      <td>45</td>\n",
       "      <td>61648</td>\n",
       "      <td>85000</td>\n",
       "      <td>100000</td>\n",
       "    </tr>\n",
       "    <tr>\n",
       "      <th>max</th>\n",
       "      <td>59999</td>\n",
       "      <td>45</td>\n",
       "      <td>77513</td>\n",
       "      <td>85000</td>\n",
       "      <td>149000</td>\n",
       "    </tr>\n",
       "    <tr>\n",
       "      <th>mean</th>\n",
       "      <td>54999.5</td>\n",
       "      <td>45</td>\n",
       "      <td>69580.5</td>\n",
       "      <td>85000</td>\n",
       "      <td>124500</td>\n",
       "    </tr>\n",
       "    <tr>\n",
       "      <th>mean_anual</th>\n",
       "      <td>54999.5</td>\n",
       "      <td>76950</td>\n",
       "      <td>69580.5</td>\n",
       "      <td>85000</td>\n",
       "      <td>124500</td>\n",
       "    </tr>\n",
       "    <tr>\n",
       "      <th>mean_anual2</th>\n",
       "      <td>55000</td>\n",
       "      <td>77000</td>\n",
       "      <td>70000</td>\n",
       "      <td>85000</td>\n",
       "      <td>124000</td>\n",
       "    </tr>\n",
       "    <tr>\n",
       "      <th>state</th>\n",
       "      <td>VIC</td>\n",
       "      <td>VIC</td>\n",
       "      <td>VIC</td>\n",
       "      <td>VIC</td>\n",
       "      <td>VIC</td>\n",
       "    </tr>\n",
       "    <tr>\n",
       "      <th>titlendesc</th>\n",
       "      <td>Data Associate THE COMPANYInflo is an agile, f...</td>\n",
       "      <td>HSE Supervisor / Safety Officer Solar Farm - C...</td>\n",
       "      <td>Data Analytics Graduate Data Analytics Graduat...</td>\n",
       "      <td>Privacy and Data Protection Specialist Line of...</td>\n",
       "      <td>Technology Specialist- Data Vault About Cogniz...</td>\n",
       "    </tr>\n",
       "    <tr>\n",
       "      <th>salaryrank</th>\n",
       "      <td>0.0</td>\n",
       "      <td>2.0</td>\n",
       "      <td>1.0</td>\n",
       "      <td>2.0</td>\n",
       "      <td>2.0</td>\n",
       "    </tr>\n",
       "    <tr>\n",
       "      <th>total</th>\n",
       "      <td>Location: Melbourne VIC, Company name: Inflo A...</td>\n",
       "      <td>Location: Cohuna VIC, Company name: Workfast P...</td>\n",
       "      <td>Location: Frankston VIC, Company name: Frankst...</td>\n",
       "      <td>Location: Melbourne VIC, Company name: Pw C, C...</td>\n",
       "      <td>Location: Melbourne VIC, Company name: Cogniza...</td>\n",
       "    </tr>\n",
       "    <tr>\n",
       "      <th>experience</th>\n",
       "      <td>&lt;_sre.SRE_Match object; span=(3073, 3080), mat...</td>\n",
       "      <td>&lt;_sre.SRE_Match object; span=(1303, 1310), mat...</td>\n",
       "      <td>None</td>\n",
       "      <td>None</td>\n",
       "      <td>None</td>\n",
       "    </tr>\n",
       "  </tbody>\n",
       "</table>\n",
       "</div>"
      ],
      "text/plain": [
       "                                                                0  \\\n",
       "Unnamed: 0                                                      0   \n",
       "job_title                                          Data Associate   \n",
       "location                                            Melbourne VIC   \n",
       "work_type                                               Permanent   \n",
       "company_name                                   Inflo APAC Limited   \n",
       "company_rating                                      Not Available   \n",
       "salary                                   $50,000 - $59,999 a year   \n",
       "desc            THE COMPANYInflo is an agile, forward-thinking...   \n",
       "rate_type                                                    year   \n",
       "min                                                         50000   \n",
       "max                                                         59999   \n",
       "mean                                                      54999.5   \n",
       "mean_anual                                                54999.5   \n",
       "mean_anual2                                                 55000   \n",
       "state                                                         VIC   \n",
       "titlendesc      Data Associate THE COMPANYInflo is an agile, f...   \n",
       "salaryrank                                                    0.0   \n",
       "total           Location: Melbourne VIC, Company name: Inflo A...   \n",
       "experience      <_sre.SRE_Match object; span=(3073, 3080), mat...   \n",
       "\n",
       "                                                                1  \\\n",
       "Unnamed: 0                                                      1   \n",
       "job_title       HSE Supervisor / Safety Officer Solar Farm - C...   \n",
       "location                                               Cohuna VIC   \n",
       "work_type                                        Contract, Casual   \n",
       "company_name                                     Workfast Pty Ltd   \n",
       "company_rating                                                4.5   \n",
       "salary                                                $45 an hour   \n",
       "desc            Workfast is seeking an experienced HSE Safety ...   \n",
       "rate_type                                                    hour   \n",
       "min                                                            45   \n",
       "max                                                            45   \n",
       "mean                                                           45   \n",
       "mean_anual                                                  76950   \n",
       "mean_anual2                                                 77000   \n",
       "state                                                         VIC   \n",
       "titlendesc      HSE Supervisor / Safety Officer Solar Farm - C...   \n",
       "salaryrank                                                    2.0   \n",
       "total           Location: Cohuna VIC, Company name: Workfast P...   \n",
       "experience      <_sre.SRE_Match object; span=(1303, 1310), mat...   \n",
       "\n",
       "                                                                2  \\\n",
       "Unnamed: 0                                                      2   \n",
       "job_title                                 Data Analytics Graduate   \n",
       "location                                            Frankston VIC   \n",
       "work_type                                               Permanent   \n",
       "company_name                               Frankston City Council   \n",
       "company_rating                                                3.0   \n",
       "salary                                   $61,648 - $77,513 a year   \n",
       "desc            Data Analytics Graduate\\n\\nPermanent Full Time...   \n",
       "rate_type                                                    year   \n",
       "min                                                         61648   \n",
       "max                                                         77513   \n",
       "mean                                                      69580.5   \n",
       "mean_anual                                                69580.5   \n",
       "mean_anual2                                                 70000   \n",
       "state                                                         VIC   \n",
       "titlendesc      Data Analytics Graduate Data Analytics Graduat...   \n",
       "salaryrank                                                    1.0   \n",
       "total           Location: Frankston VIC, Company name: Frankst...   \n",
       "experience                                                   None   \n",
       "\n",
       "                                                                3  \\\n",
       "Unnamed: 0                                                      3   \n",
       "job_title                  Privacy and Data Protection Specialist   \n",
       "location                                            Melbourne VIC   \n",
       "work_type                                                     NaN   \n",
       "company_name                                                  PwC   \n",
       "company_rating                                                4.0   \n",
       "salary                                             $85,000 a year   \n",
       "desc            Line of Service\\nAssurance\\nIndustry/Sector\\nN...   \n",
       "rate_type                                                    year   \n",
       "min                                                         85000   \n",
       "max                                                         85000   \n",
       "mean                                                        85000   \n",
       "mean_anual                                                  85000   \n",
       "mean_anual2                                                 85000   \n",
       "state                                                         VIC   \n",
       "titlendesc      Privacy and Data Protection Specialist Line of...   \n",
       "salaryrank                                                    2.0   \n",
       "total           Location: Melbourne VIC, Company name: Pw C, C...   \n",
       "experience                                                   None   \n",
       "\n",
       "                                                                4  \n",
       "Unnamed: 0                                                      4  \n",
       "job_title                       Technology Specialist- Data Vault  \n",
       "location                                            Melbourne VIC  \n",
       "work_type                                                     NaN  \n",
       "company_name                       Cognizant Technology Solutions  \n",
       "company_rating                                  3.900000095367432  \n",
       "salary                                 $100,000 - $149,000 a year  \n",
       "desc            About CognizantCognizant (Nasdaq-100: CTSH) is...  \n",
       "rate_type                                                    year  \n",
       "min                                                        100000  \n",
       "max                                                        149000  \n",
       "mean                                                       124500  \n",
       "mean_anual                                                 124500  \n",
       "mean_anual2                                                124000  \n",
       "state                                                         VIC  \n",
       "titlendesc      Technology Specialist- Data Vault About Cogniz...  \n",
       "salaryrank                                                    2.0  \n",
       "total           Location: Melbourne VIC, Company name: Cogniza...  \n",
       "experience                                                   None  "
      ]
     },
     "execution_count": 132,
     "metadata": {},
     "output_type": "execute_result"
    }
   ],
   "source": [
    "def findym(x):\n",
    "    rx = \"\\\\d+\\\\s+years?\\\\s+(?:and\\\\s*)?\\\\d+\\\\s+months?|\\\\d+\\\\s+(?:months?|years?)\";\n",
    "    m = re.search(rx, x)\n",
    "    return m\n",
    "\n",
    "final_job2['experience'] = final_job2.total.apply(lamfindym)\n",
    "final_job2.head().T"
   ]
  },
  {
   "cell_type": "code",
   "execution_count": null,
   "metadata": {},
   "outputs": [],
   "source": []
  }
 ],
 "metadata": {
  "kernelspec": {
   "display_name": "Python 3",
   "language": "python",
   "name": "python3"
  },
  "language_info": {
   "codemirror_mode": {
    "name": "ipython",
    "version": 3
   },
   "file_extension": ".py",
   "mimetype": "text/x-python",
   "name": "python",
   "nbconvert_exporter": "python",
   "pygments_lexer": "ipython3",
   "version": "3.6.8"
  }
 },
 "nbformat": 4,
 "nbformat_minor": 2
}
